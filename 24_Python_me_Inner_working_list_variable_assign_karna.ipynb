{
 "cells": [
  {
   "cell_type": "code",
   "execution_count": 1,
   "id": "49f31b16",
   "metadata": {},
   "outputs": [],
   "source": [
    "list_a = [1, 2, 3]\n",
    "list_b = [1, 2, 3]\n"
   ]
  },
  {
   "cell_type": "markdown",
   "id": "08634166",
   "metadata": {},
   "source": [
    "Samjh lo step by step:\n",
    "\n",
    "Jab tum list_a = [1,2,3] likhte ho → Python ek naya list object banata hai memory me.\n",
    "\n",
    "uske andar teen integer objects hote hain (1, 2, 3) jo already interned hote hain.\n",
    "\n",
    "matlab integers ek hi jagah hote hain, par list container naya hota hai.\n",
    "\n",
    "Jab tum list_b = [1,2,3] likhte ho → Python phir se ek naya list object banata hai.\n",
    "\n",
    "uske andar bhi wohi integers hote hain (jo interned hain), lekin list ka memory address alag hoga.\n",
    "\n",
    "Proof:"
   ]
  },
  {
   "cell_type": "code",
   "execution_count": 2,
   "id": "115e97ac",
   "metadata": {},
   "outputs": [
    {
     "name": "stdout",
     "output_type": "stream",
     "text": [
      "2628268835968\n",
      "2628268835328\n",
      "False\n",
      "True\n"
     ]
    }
   ],
   "source": [
    "list_a = [1, 2, 3]\n",
    "list_b = [1, 2, 3]\n",
    "\n",
    "print(id(list_a))   # alag hoga\n",
    "print(id(list_b))   # alag hoga\n",
    "print(list_a is list_b)   # False\n",
    "print(list_a == list_b)   # True\n"
   ]
  },
  {
   "cell_type": "markdown",
   "id": "7f1b22fc",
   "metadata": {},
   "source": [
    "id(list_a) ≠ id(list_b)\n",
    "\n",
    "list_a is list_b → False (kyunki dono alag objects hain)\n",
    "\n",
    "list_a == list_b → True (kyunki values same hain)\n",
    "\n",
    "Conclusion (easy roman urdu me)\n",
    "\n",
    "Jab tum list banate ho [1,2,3] do baar likh ke → har dafa nayi list banti hai.\n",
    "\n",
    "Matlab container alag hota hai, lekin uske andar jo chhoti values (1,2,3) hain wo already ek hi memory me hain (interned).\n",
    "\n",
    "Is liye tumne reference explicitly nahi diya, phir bhi Python ne do alag list objects banaye.\n",
    "\n",
    "👉 Agar tum chaho ke list_a aur list_b ek hi memory object ko refer karein, to tumhe likhna hoga:"
   ]
  },
  {
   "cell_type": "code",
   "execution_count": 3,
   "id": "fa54a8ab",
   "metadata": {},
   "outputs": [
    {
     "name": "stdout",
     "output_type": "stream",
     "text": [
      "True\n"
     ]
    }
   ],
   "source": [
    "list_a = [1, 2, 3]\n",
    "list_b = list_a   # ab dono ek hi list ko refer kar rahe hain\n",
    "print(list_a is list_b)  # True\n"
   ]
  }
 ],
 "metadata": {
  "kernelspec": {
   "display_name": "Python 3",
   "language": "python",
   "name": "python3"
  },
  "language_info": {
   "codemirror_mode": {
    "name": "ipython",
    "version": 3
   },
   "file_extension": ".py",
   "mimetype": "text/x-python",
   "name": "python",
   "nbconvert_exporter": "python",
   "pygments_lexer": "ipython3",
   "version": "3.13.5"
  }
 },
 "nbformat": 4,
 "nbformat_minor": 5
}
