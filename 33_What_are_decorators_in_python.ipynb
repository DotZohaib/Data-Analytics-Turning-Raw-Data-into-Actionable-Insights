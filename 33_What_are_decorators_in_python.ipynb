{
 "cells": [
  {
   "cell_type": "markdown",
   "id": "963d0e17",
   "metadata": {},
   "source": [
    "🔹 Decorator kya hota hai?\n",
    "\n",
    "Decorator asal me ek wrapper function hota hai jo kisi function ke pehle aur baad me extra kaam kar sakta hai — lekin function ki main functionality waisi ki waisi rehti hai.\n",
    "Samajh lo ek gift wrap ki tarah: gift wohi hai, bas upar se decoration extra hai. 🎁"
   ]
  },
  {
   "cell_type": "markdown",
   "id": "19e07eb0",
   "metadata": {},
   "source": [
    "Python decorators — step-by-step (easy ✅)\n",
    "\n",
    "Think of a decorator as a wrapper you put around a function to change or extend its behavior — like wrapping a gift: you still have the same present, but with extra ribbon (logging, timing, caching, permission checks, etc.)."
   ]
  },
  {
   "cell_type": "code",
   "execution_count": 1,
   "id": "14abbf5f",
   "metadata": {},
   "outputs": [
    {
     "name": "stdout",
     "output_type": "stream",
     "text": [
      "Before function chal rahi hai\n",
      "Hello Zohaib\n",
      "After function chal gayi\n"
     ]
    }
   ],
   "source": [
    "def my_decorator(func):\n",
    "    def wrapper(*args, **kwargs):\n",
    "        print(\"Before function chal rahi hai\")\n",
    "        result = func(*args, **kwargs)   # yahan original function call hoga\n",
    "        print(\"After function chal gayi\")\n",
    "        return result\n",
    "    return wrapper\n",
    "\n",
    "@my_decorator\n",
    "def say_hello(name):\n",
    "    print(\"Hello\", name)\n",
    "\n",
    "say_hello(\"Zohaib\")\n"
   ]
  },
  {
   "cell_type": "markdown",
   "id": "3aded362",
   "metadata": {},
   "source": [
    "Roman Urdu Explanation:\n",
    "\n",
    "my_decorator ek function hai jo dusre function ko accept karta hai.\n",
    "\n",
    "wrapper ek inner function hai jo original function ke pehle aur baad code chalata hai.\n",
    "\n",
    "@my_decorator likhne ka matlab hai:\n",
    "say_hello = my_decorator(say_hello)\n",
    "\n",
    "2) Decorator with Arguments (baar baar run karna)"
   ]
  },
  {
   "cell_type": "code",
   "execution_count": 2,
   "id": "d5b8236c",
   "metadata": {},
   "outputs": [
    {
     "name": "stdout",
     "output_type": "stream",
     "text": [
      "Hello Ali\n",
      "Hello Ali\n",
      "Hello Ali\n"
     ]
    }
   ],
   "source": [
    "import functools\n",
    "\n",
    "def repeat(n):\n",
    "    def decorator(func):\n",
    "        @functools.wraps(func)\n",
    "        def wrapper(*args, **kwargs):\n",
    "            for _ in range(n):\n",
    "                func(*args, **kwargs)\n",
    "        return wrapper\n",
    "    return decorator\n",
    "\n",
    "@repeat(3)\n",
    "def greet(name):\n",
    "    print(\"Hello\", name)\n",
    "\n",
    "greet(\"Ali\")\n"
   ]
  },
  {
   "cell_type": "markdown",
   "id": "166b5630",
   "metadata": {},
   "source": [
    "Roman Urdu Explanation:\n",
    "\n",
    "repeat(3) ka matlab hai function 3 dafa chalega.\n",
    "\n",
    "Yahan decorator ke andar parameter bhi pass kar sakte ho.\n",
    "\n",
    "3) Real Life Example (time measure karna)"
   ]
  },
  {
   "cell_type": "code",
   "execution_count": 3,
   "id": "59590cb4",
   "metadata": {},
   "outputs": [
    {
     "name": "stdout",
     "output_type": "stream",
     "text": [
      "calculate ne 0.0482 seconds liye\n",
      "499999500000\n"
     ]
    }
   ],
   "source": [
    "import time, functools\n",
    "\n",
    "def timer(func):\n",
    "    @functools.wraps(func)\n",
    "    def wrapper(*args, **kwargs):\n",
    "        start = time.time()\n",
    "        result = func(*args, **kwargs)\n",
    "        end = time.time()\n",
    "        print(f\"{func.__name__} ne {end-start:.4f} seconds liye\")\n",
    "        return result\n",
    "    return wrapper\n",
    "\n",
    "@timer\n",
    "def calculate():\n",
    "    total = sum(range(1000000))\n",
    "    return total\n",
    "\n",
    "print(calculate())\n"
   ]
  },
  {
   "cell_type": "markdown",
   "id": "695f62da",
   "metadata": {},
   "source": [
    "Roman Urdu Explanation:\n",
    "\n",
    "timer decorator measure karta hai function ne kitna waqt liya.\n",
    "\n",
    "calculate() asal function hai jo large sum karta hai.\n",
    "\n",
    "Decorator sirf extra info print kar raha hai, function ki asli value waisi hi return hoti hai.\n",
    "\n",
    "🔹 Easy Samajhne ka Rule\n",
    "\n",
    "@decorator ka matlab hai: function k saath extra feature jorr do.\n",
    "\n",
    "Jese:\n",
    "\n",
    "Function ke pehle print karna ✔️\n",
    "\n",
    "Baar baar chalana ✔️\n",
    "\n",
    "Time measure karna ✔️\n",
    "\n",
    "User check karna (login) ✔️\n",
    "\n",
    "Result ko cache karna ✔️"
   ]
  }
 ],
 "metadata": {
  "kernelspec": {
   "display_name": "Python 3",
   "language": "python",
   "name": "python3"
  },
  "language_info": {
   "codemirror_mode": {
    "name": "ipython",
    "version": 3
   },
   "file_extension": ".py",
   "mimetype": "text/x-python",
   "name": "python",
   "nbconvert_exporter": "python",
   "pygments_lexer": "ipython3",
   "version": "3.13.5"
  }
 },
 "nbformat": 4,
 "nbformat_minor": 5
}
