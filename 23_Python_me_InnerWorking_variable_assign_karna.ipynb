{
 "cells": [
  {
   "cell_type": "markdown",
   "id": "c8aae2ea",
   "metadata": {},
   "source": [
    "Python me variable assign karna"
   ]
  },
  {
   "cell_type": "code",
   "execution_count": null,
   "id": "07c7390d",
   "metadata": {},
   "outputs": [],
   "source": [
    "a = 10\n",
    "b = 10"
   ]
  },
  {
   "cell_type": "markdown",
   "id": "9b2b0a4e",
   "metadata": {},
   "source": [
    "👉 Jab tum a = 10 likhte ho, Python ek object banata hai jiska value 10 hai.\n",
    "👉 Jab b = 10 likhte ho, Python check karta hai ki 10 ka object already memory me exist karta hai (interning ki wajah se).\n",
    "👉 Agar wo exist karta hai, to b bhi usi memory reference ko point karega.\n",
    "\n",
    "Matlab:\n",
    "\n",
    "Dono a aur b ek hi object (10) ko refer kar rahe hote hain.\n",
    "\n",
    "Python integers (small numbers, -5 se 256 tak) ko intern (reuse) karta hai.\n",
    "\n",
    "Proof (id() function se check kar sakte ho)"
   ]
  },
  {
   "cell_type": "code",
   "execution_count": 2,
   "id": "57273908",
   "metadata": {},
   "outputs": [
    {
     "name": "stdout",
     "output_type": "stream",
     "text": [
      "140724961952968\n",
      "140724961952968\n",
      "True\n"
     ]
    }
   ],
   "source": [
    "a = 10\n",
    "b = 10\n",
    "\n",
    "print(id(a))\n",
    "print(id(b))\n",
    "print(a is b)   # True\n"
   ]
  },
  {
   "cell_type": "markdown",
   "id": "09a67ec6",
   "metadata": {},
   "source": [
    "a = 10\n",
    "b = 10\n",
    "\n",
    "print(id(a))\n",
    "print(id(b))\n",
    "print(a is b)   # True\n"
   ]
  },
  {
   "cell_type": "markdown",
   "id": "78146d3f",
   "metadata": {},
   "source": [
    "👉 id() memory address jesa unique number deta hai.\n",
    "👉 Result me dono ka id same hoga.\n",
    "👉 a is b ka answer True ayega.\n",
    "\n",
    "Lekin agar bada number ho?"
   ]
  },
  {
   "cell_type": "code",
   "execution_count": 1,
   "id": "dc3efd7a",
   "metadata": {},
   "outputs": [
    {
     "name": "stdout",
     "output_type": "stream",
     "text": [
      "1450747575984\n",
      "1450747576048\n",
      "False\n"
     ]
    }
   ],
   "source": [
    "x = 1000\n",
    "y = 1000\n",
    "\n",
    "print(id(x))\n",
    "print(id(y))\n",
    "print(x is y)   # Kabhi False hoga\n"
   ]
  },
  {
   "cell_type": "markdown",
   "id": "7d550544",
   "metadata": {},
   "source": [
    "Python large integers ya custom objects ko hamesha intern nahi karta.\n",
    "\n",
    "Is case me kabhi-kabhi x aur y alag-alag jagah pe store hote hain.\n",
    "\n",
    "Conclusion (Easy Roman Urdu me)\n",
    "\n",
    "Agar chhoti value (-5 se 256) assign karo to ek hi memory me hoti hai, aur variables sirf reference point karte hain.\n",
    "\n",
    "Agar badi value ya koi object assign karo, to alag-alag memory me ban bhi sakte hain.\n",
    "\n",
    "👉 Matlab tumhara example a = 10, b = 10 me sirf ek hi baar 10 store hota hai, dono variables usi ko use karte hain."
   ]
  },
  {
   "cell_type": "code",
   "execution_count": 4,
   "id": "8d13d788",
   "metadata": {},
   "outputs": [
    {
     "name": "stdout",
     "output_type": "stream",
     "text": [
      "[1, 100, 3]\n",
      "[1, 100, 3]\n"
     ]
    }
   ],
   "source": [
    "l1 = [1, 2, 3]\n",
    "l2 = l1\n",
    "\n",
    "l1[1] = 100\n",
    "\n",
    "print(l1)\n",
    "print(l2)"
   ]
  },
  {
   "cell_type": "code",
   "execution_count": 3,
   "id": "f1790ddc",
   "metadata": {},
   "outputs": [
    {
     "name": "stdout",
     "output_type": "stream",
     "text": [
      "True\n",
      "False\n",
      "True\n",
      "True\n",
      "False\n"
     ]
    }
   ],
   "source": [
    "# Misal 1: Chota number (interning ki wajah se)\n",
    "x = 100\n",
    "y = 100\n",
    "print(x is y)  # True hoga (q kyun ke 100 < 256)\n",
    "\n",
    "# Misal 2: Bara number (no guarantee)\n",
    "x = 10000\n",
    "y = 10000\n",
    "print(x is y)  # True ya False ho sakta hai, environment par depend karega.\n",
    "print(x == y)  # Hamesha True hoga, q kyun ke value same hai.\n",
    "\n",
    "# Misal 3: Hamesha ke liye yaad rakhne wali baat\n",
    "list1 = [1, 2, 3]\n",
    "list2 = [1, 2, 3]\n",
    "\n",
    "print(list1 == list2)  # True, q kyun ke dono ki values same hain.\n",
    "print(list1 is list2)  # FALSE, q kyun ke yeh do alag alag lists hain."
   ]
  }
 ],
 "metadata": {
  "kernelspec": {
   "display_name": "Python 3",
   "language": "python",
   "name": "python3"
  },
  "language_info": {
   "codemirror_mode": {
    "name": "ipython",
    "version": 3
   },
   "file_extension": ".py",
   "mimetype": "text/x-python",
   "name": "python",
   "nbconvert_exporter": "python",
   "pygments_lexer": "ipython3",
   "version": "3.13.5"
  }
 },
 "nbformat": 4,
 "nbformat_minor": 5
}
