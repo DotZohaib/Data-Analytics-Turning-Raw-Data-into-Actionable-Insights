{
 "cells": [
  {
   "cell_type": "code",
   "execution_count": 1,
   "id": "6b7b8832",
   "metadata": {},
   "outputs": [],
   "source": [
    "import numpy as np"
   ]
  },
  {
   "cell_type": "code",
   "execution_count": 4,
   "id": "89b45912",
   "metadata": {},
   "outputs": [
    {
     "name": "stdout",
     "output_type": "stream",
     "text": [
      "[   1    2    3    3    4    5   10   11   12   56   76  455 6788]\n"
     ]
    }
   ],
   "source": [
    "# sort \n",
    "\n",
    "a = np.array([1,11,3,56,76, 2,12, 3,455, 4,6788, 5,10])\n",
    "print(np.sort(a))"
   ]
  },
  {
   "cell_type": "code",
   "execution_count": 11,
   "id": "d48ea086",
   "metadata": {},
   "outputs": [
    {
     "name": "stdout",
     "output_type": "stream",
     "text": [
      "[ 1 11  3]\n"
     ]
    }
   ],
   "source": [
    "# Filter\n",
    "b = np.array([1,11,3,10])\n",
    "\n",
    "f = np.sort(b)\n",
    "\n",
    "f = [True, True, True, False]\n",
    "\n",
    "fa = b[f]\n",
    "\n",
    "print(fa)\n",
    "\n",
    "\n",
    "\n"
   ]
  },
  {
   "cell_type": "code",
   "execution_count": null,
   "id": "7edb5ff3",
   "metadata": {},
   "outputs": [
    {
     "name": "stdout",
     "output_type": "stream",
     "text": [
      "(array([ 3,  4,  5,  6,  9, 10, 12]),)\n"
     ]
    }
   ],
   "source": [
    "# Search\n",
    "b = np.array([1,11,3,56,76, 2,12, 3,455, 4,6788, 5,10])\n",
    "\n",
    "s : int = np.where(b == 3)\n",
    "# s  = np.where(b % 2 == 0) \n",
    "print(s)\n",
    "\n"
   ]
  },
  {
   "cell_type": "markdown",
   "id": "e6a9a4d8",
   "metadata": {},
   "source": [
    "<h1> Aggregating Functions in Numpy</h1>"
   ]
  },
  {
   "cell_type": "code",
   "execution_count": 12,
   "id": "ef6bcbd2",
   "metadata": {},
   "outputs": [],
   "source": [
    "import numpy as np"
   ]
  },
  {
   "cell_type": "code",
   "execution_count": 16,
   "id": "caf8097e",
   "metadata": {},
   "outputs": [
    {
     "name": "stdout",
     "output_type": "stream",
     "text": [
      "3.0\n",
      "3.0\n",
      "1.4142135623730951\n",
      "2.0\n",
      "15\n",
      "[ 1  3  6 10 15]\n",
      "1\n",
      "5\n",
      "5\n"
     ]
    }
   ],
   "source": [
    "a = np.array([1,2,3,4,5])\n",
    "\n",
    "print(np.mean(a))\n",
    "print(np.median(a))\n",
    "print(np.std(a))\n",
    "print(np.var(a))\n",
    "print(np.sum(a))\n",
    "print(np.cumsum(a))\n",
    "print(np.min(a))\n",
    "print(np.max(a))\n",
    "print(np.size(a))"
   ]
  }
 ],
 "metadata": {
  "kernelspec": {
   "display_name": "Python 3",
   "language": "python",
   "name": "python3"
  },
  "language_info": {
   "codemirror_mode": {
    "name": "ipython",
    "version": 3
   },
   "file_extension": ".py",
   "mimetype": "text/x-python",
   "name": "python",
   "nbconvert_exporter": "python",
   "pygments_lexer": "ipython3",
   "version": "3.13.5"
  }
 },
 "nbformat": 4,
 "nbformat_minor": 5
}
