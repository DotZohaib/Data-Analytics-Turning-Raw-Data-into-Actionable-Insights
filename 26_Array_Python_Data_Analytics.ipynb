{
 "cells": [
  {
   "cell_type": "code",
   "execution_count": 1,
   "id": "a3bc327e",
   "metadata": {},
   "outputs": [],
   "source": [
    "import numpy as np"
   ]
  },
  {
   "cell_type": "code",
   "execution_count": 6,
   "id": "52d66db1",
   "metadata": {},
   "outputs": [
    {
     "name": "stdout",
     "output_type": "stream",
     "text": [
      "[[ 1  2  3  4  5]\n",
      " [ 6  7  8  9 10]]\n",
      "(2, 5)\n",
      "int64\n",
      "2\n",
      "10\n"
     ]
    }
   ],
   "source": [
    "a = [[1,2,3,4,5], [6,7,8,9,10]]\n",
    "\n",
    "arr = np.array(a)\n",
    "\n",
    "print(arr)\n",
    "print(arr.shape)\n",
    "print(arr.dtype)\n",
    "print(len(arr))\n",
    "print(np.size(arr))\n"
   ]
  },
  {
   "cell_type": "code",
   "execution_count": 11,
   "id": "02b9f498",
   "metadata": {},
   "outputs": [
    {
     "name": "stdout",
     "output_type": "stream",
     "text": [
      "A Value : [1, 2, 3, 4, 5] + B Value : [6, 7, 8, 9, 10]  Total Value A TO B :  [ 7  9 11 13 15]\n",
      "A Value : [1, 2, 3, 4, 5] - B Value : [6, 7, 8, 9, 10]  Total Value A TO B :  [-5 -5 -5 -5 -5]\n",
      "A Value : [1, 2, 3, 4, 5] * B Value : [6, 7, 8, 9, 10]  Total Value A TO B :  [ 6 14 24 36 50]\n",
      "A Value : [1, 2, 3, 4, 5] / B Value : [6, 7, 8, 9, 10]  Total Value A TO B :  [0.16666667 0.28571429 0.375      0.44444444 0.5       ]\n"
     ]
    }
   ],
   "source": [
    "a = [1,2,3,4,5]\n",
    "b =  [6,7,8,9,10]\n",
    "\n",
    "print(f\"A Value : {a} + B Value : {b}  Total Value A TO B :  {np.add(a,b)}\")\n",
    "print(f\"A Value : {a} - B Value : {b}  Total Value A TO B :  {np.subtract(a,b)}\")\n",
    "print(f\"A Value : {a} * B Value : {b}  Total Value A TO B :  {np.multiply(a,b)}\")\n",
    "print(f\"A Value : {a} / B Value : {b}  Total Value A TO B :  {np.divide(a,b)}\")"
   ]
  }
 ],
 "metadata": {
  "kernelspec": {
   "display_name": "Python 3",
   "language": "python",
   "name": "python3"
  },
  "language_info": {
   "codemirror_mode": {
    "name": "ipython",
    "version": 3
   },
   "file_extension": ".py",
   "mimetype": "text/x-python",
   "name": "python",
   "nbconvert_exporter": "python",
   "pygments_lexer": "ipython3",
   "version": "3.13.5"
  }
 },
 "nbformat": 4,
 "nbformat_minor": 5
}
