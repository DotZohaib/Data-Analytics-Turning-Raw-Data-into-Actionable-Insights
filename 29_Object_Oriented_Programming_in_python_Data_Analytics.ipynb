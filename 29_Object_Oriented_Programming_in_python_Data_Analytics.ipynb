{
 "cells": [
  {
   "cell_type": "markdown",
   "id": "dfd51307",
   "metadata": {},
   "source": [
    "1. Basic Class and Object\n",
    "\n",
    "👉 Class matlab ek blueprint aur Object uska copy / instance hota hai."
   ]
  },
  {
   "cell_type": "code",
   "execution_count": null,
   "id": "e61e956f",
   "metadata": {},
   "outputs": [],
   "source": [
    "class Car:\n",
    "    pass\n",
    "\n",
    "car1 = Car()   # object\n",
    "car2 = Car()   # object\n"
   ]
  },
  {
   "cell_type": "markdown",
   "id": "7768e78f",
   "metadata": {},
   "source": [
    "Roman Urdu: Class design hoti hai, aur Object asal cheez hoti hai jo banti hai us design se.\n",
    "\n",
    "2. Class Method and Self\n",
    "\n",
    "👉 self matlab current object."
   ]
  },
  {
   "cell_type": "code",
   "execution_count": 1,
   "id": "3847ce27",
   "metadata": {},
   "outputs": [
    {
     "name": "stdout",
     "output_type": "stream",
     "text": [
      "Honda\n"
     ]
    }
   ],
   "source": [
    "class Car:\n",
    "    def __init__(self, name):\n",
    "        self.name = name\n",
    "\n",
    "    def show(self):\n",
    "        print(self.name)\n",
    "\n",
    "c = Car(\"Honda\")\n",
    "c.show()\n"
   ]
  },
  {
   "cell_type": "markdown",
   "id": "3140cfbf",
   "metadata": {},
   "source": [
    "Roman Urdu: self hamesha current object ki taraf ishara karta hai.\n",
    "\n",
    "3. Inheritance\n",
    "\n",
    "👉 Ek class doosri class se cheezain le sakti hai."
   ]
  },
  {
   "cell_type": "code",
   "execution_count": 2,
   "id": "ac627b1e",
   "metadata": {},
   "outputs": [
    {
     "name": "stdout",
     "output_type": "stream",
     "text": [
      "Animal sound\n"
     ]
    }
   ],
   "source": [
    "class Animal:\n",
    "    def sound(self):\n",
    "        print(\"Animal sound\")\n",
    "\n",
    "class Dog(Animal):\n",
    "    pass\n",
    "\n",
    "d = Dog()\n",
    "d.sound()\n"
   ]
  },
  {
   "cell_type": "markdown",
   "id": "bf7d0cde",
   "metadata": {},
   "source": [
    "Roman Urdu: Child class, Parent class se cheezen le leti hai.\n",
    "\n",
    "4. Encapsulation\n",
    "\n",
    "👉 Data ko private karna."
   ]
  },
  {
   "cell_type": "code",
   "execution_count": 3,
   "id": "5579a1fc",
   "metadata": {},
   "outputs": [
    {
     "name": "stdout",
     "output_type": "stream",
     "text": [
      "1000\n"
     ]
    }
   ],
   "source": [
    "class Bank:\n",
    "    def __init__(self):\n",
    "        self.__balance = 1000   # private\n",
    "\n",
    "b = Bank()\n",
    "print(b._Bank__balance)   # access trick\n"
   ]
  },
  {
   "cell_type": "markdown",
   "id": "50808e45",
   "metadata": {},
   "source": [
    "Roman Urdu: Encapsulation matlab cheezen hidden rakhna.\n",
    "\n",
    "5. Class Variables\n",
    "\n",
    "👉 Wo variables jo sab objects ke liye same hote hain."
   ]
  },
  {
   "cell_type": "code",
   "execution_count": 4,
   "id": "e7a052c7",
   "metadata": {},
   "outputs": [],
   "source": [
    "class Student:\n",
    "    school = \"ABC School\"   # class variable\n"
   ]
  },
  {
   "cell_type": "markdown",
   "id": "f361e6cb",
   "metadata": {},
   "source": [
    "Roman Urdu: Class variable sab objects me same rehta hai.\n",
    "\n",
    "6. Static Method\n",
    "\n",
    "👉 Method jo object se nahi, direct class se chalta hai."
   ]
  },
  {
   "cell_type": "code",
   "execution_count": 6,
   "id": "4825112e",
   "metadata": {},
   "outputs": [
    {
     "name": "stdout",
     "output_type": "stream",
     "text": [
      "8\n"
     ]
    }
   ],
   "source": [
    "class Math:\n",
    "    @staticmethod\n",
    "    def add(a, b):\n",
    "        return a + b\n",
    "\n",
    "print(Math.add(5, 3))\n"
   ]
  },
  {
   "cell_type": "markdown",
   "id": "1b16ae17",
   "metadata": {},
   "source": [
    "Roman Urdu: Static method ko self ki zarurat nahi hoti.\n",
    "\n",
    "7. Property Decorators\n",
    "\n",
    "👉 Getter aur Setter ka shortcut."
   ]
  },
  {
   "cell_type": "code",
   "execution_count": 7,
   "id": "72f2735a",
   "metadata": {},
   "outputs": [],
   "source": [
    "class Student:\n",
    "    def __init__(self, name):\n",
    "        self._name = name\n",
    "\n",
    "    @property\n",
    "    def name(self):\n",
    "        return self._name\n"
   ]
  },
  {
   "cell_type": "markdown",
   "id": "d2af2244",
   "metadata": {},
   "source": [
    "Roman Urdu: Property decorator easy tareeqay se variable ko method bana deta hai.\n",
    "\n",
    "8. Class Inheritance and isinstance()\n",
    "\n",
    "👉 isinstance() check karta hai object kahan ka hai."
   ]
  },
  {
   "cell_type": "code",
   "execution_count": 8,
   "id": "6c32ec39",
   "metadata": {},
   "outputs": [
    {
     "name": "stdout",
     "output_type": "stream",
     "text": [
      "True\n"
     ]
    }
   ],
   "source": [
    "print(isinstance(5, int))   # True\n"
   ]
  },
  {
   "cell_type": "markdown",
   "id": "73461d18",
   "metadata": {},
   "source": [
    "Roman Urdu: isinstance check karta hai k object kis class ka hai.\n",
    "\n",
    "9. Multiple Inheritance\n",
    "\n",
    "👉 Ek class ek se zyada classes se inherit kare."
   ]
  },
  {
   "cell_type": "code",
   "execution_count": 9,
   "id": "bfe0d1ef",
   "metadata": {},
   "outputs": [],
   "source": [
    "class A: pass\n",
    "class B: pass\n",
    "class C(A, B): pass\n"
   ]
  },
  {
   "cell_type": "markdown",
   "id": "6db6cd4e",
   "metadata": {},
   "source": [
    "Roman Urdu: Ek class multiple parents le sakti hai.\n",
    "\n",
    "✅ Easy tareeqa yaad rakhne ka:\n",
    "\n",
    "Class = Design\n",
    "\n",
    "Object = Copy banayi gayi\n",
    "\n",
    "Self = Yehi object\n",
    "\n",
    "Inheritance = Cheezain lena\n",
    "\n",
    "Encapsulation = Hidden karna\n",
    "\n",
    "Class Variable = Sab objects ke liye same\n",
    "\n",
    "Static Method = self ki zarurat nahi\n",
    "\n",
    "Property = Shortcut getter/setter\n",
    "\n",
    "isinstance = Check k object kis class ka hai\n",
    "\n",
    "Multiple Inheritance = Ek se zyada parent classes"
   ]
  },
  {
   "cell_type": "code",
   "execution_count": 14,
   "id": "f307b8d8",
   "metadata": {},
   "outputs": [
    {
     "name": "stdout",
     "output_type": "stream",
     "text": [
      "My Car is Tesla and my Model is Model 3\n"
     ]
    }
   ],
   "source": [
    "class Car:\n",
    "    def __init__(self, Brand, Model):\n",
    "        self.Brand = Brand\n",
    "        self.Model = Model\n",
    "\n",
    "NewCar = Car(\"Tesla\", \"Model 3\")\n",
    "print(f\"My Car is {NewCar.Brand} and my Model is {NewCar.Model}\")"
   ]
  }
 ],
 "metadata": {
  "kernelspec": {
   "display_name": "Python 3",
   "language": "python",
   "name": "python3"
  },
  "language_info": {
   "codemirror_mode": {
    "name": "ipython",
    "version": 3
   },
   "file_extension": ".py",
   "mimetype": "text/x-python",
   "name": "python",
   "nbconvert_exporter": "python",
   "pygments_lexer": "ipython3",
   "version": "3.13.5"
  }
 },
 "nbformat": 4,
 "nbformat_minor": 5
}
