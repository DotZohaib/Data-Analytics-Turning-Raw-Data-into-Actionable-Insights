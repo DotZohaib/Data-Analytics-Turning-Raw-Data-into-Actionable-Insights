{
 "cells": [
  {
   "cell_type": "markdown",
   "id": "f973402d",
   "metadata": {},
   "source": [
    "🔹 GIL (Global Interpreter Lock) kya hota hai?\n",
    "\n",
    "Python ek lock system use karta hai jo ek time par sirf ek thread ko run karne deta hai (CPU level par).\n",
    "\n",
    "Matlab agar aap ek program me multiple threads banate ho, to bhi Python ek hi waqt par ek thread ko hi Python bytecode chalane deta hai.\n",
    "\n",
    "Ye kiya jata hai taki Python ke memory management (objects, reference counting) safe rahe."
   ]
  },
  {
   "cell_type": "markdown",
   "id": "05463357",
   "metadata": {},
   "source": [
    "🔹 Easy Example\n",
    "\n",
    "Socho aapke paas ek room hai jisme sirf 1 key hai 🔑.\n",
    "\n",
    "Room = Python Interpreter\n",
    "\n",
    "Key = GIL\n",
    "\n",
    "Threads = Students jo room ke andar kaam karna chahte hain\n",
    "\n",
    "Ab agar 5 students (threads) ek saath room me jana chahte hain, to sabko ek key chahiye hogi.\n",
    "\n",
    "Lekin kyunke sirf 1 key hai, ek time par sirf ek student andar jaa kar kaam kar sakta hai.\n",
    "\n",
    "Baaki students ko wait karna padega jab tak key free na ho jaye.\n",
    "\n",
    "Yahi concept GIL ka hai → Multiple threads banane ke bawajood ek waqt me ek hi thread Python code run karta hai."
   ]
  },
  {
   "cell_type": "code",
   "execution_count": 2,
   "id": "1c6f6c93",
   "metadata": {},
   "outputs": [
    {
     "name": "stdout",
     "output_type": "stream",
     "text": [
      "Running: Thread-1\n",
      "Running: Thread-2\n",
      "Running: Thread-1\n",
      "Running: Thread-2\n",
      "Running: Thread-1\n",
      "Running: Thread-2\n",
      "Running: Thread-1\n",
      "Running: Thread-2\n",
      "Running: Thread-1\n",
      "Running: Thread-2\n"
     ]
    }
   ],
   "source": [
    "import threading\n",
    "import time\n",
    "\n",
    "def task():\n",
    "    for i in range(5):\n",
    "        print(f\"Running: {threading.current_thread().name}\")\n",
    "        time.sleep(1)\n",
    "\n",
    "# 2 threads banaye\n",
    "t1 = threading.Thread(target=task, name=\"Thread-1\")\n",
    "t2 = threading.Thread(target=task, name=\"Thread-2\")\n",
    "\n",
    "t1.start()\n",
    "t2.start()\n",
    "\n",
    "t1.join()\n",
    "t2.join()\n"
   ]
  },
  {
   "cell_type": "markdown",
   "id": "48ab80be",
   "metadata": {},
   "source": [
    "🔹 Important Point\n",
    "\n",
    "GIL ka effect CPU-bound tasks me hota hai (jaise calculations).\n",
    "\n",
    "Lekin I/O-bound tasks (jaise file read, network request) me GIL issue nahi hota, kyunki us time Python dusre thread ko run karne deta hai.\n",
    "\n",
    "✅ Simple Summary:\n",
    "GIL ek lock hai jo Python interpreter me hota hai, aur wo ek waqt me sirf ek thread ko Python code run karne deta hai → isliye Python threads parallel kaam nahi karte jaise dusri languages (Java, C++)."
   ]
  },
  {
   "cell_type": "markdown",
   "id": "7a9e8fd2",
   "metadata": {},
   "source": [
    "🔹 Thread kya hota hai?\n",
    "\n",
    "Thread ek chhoti si unit hoti hai jo program ke andar kaam karti hai.\n",
    "\n",
    "Socho aapka program ek factory hai, aur thread us factory ke worker hain jo alag-alag kaam kar rahe hote hain.\n",
    "\n",
    "🔹 Easy Real Life Example\n",
    "\n",
    "Socho aap ek restaurant chalate ho 🍴.\n",
    "\n",
    "Ek chef = ek thread\n",
    "\n",
    "Agar ek hi chef hai → wo pehle ek order banayega, phir dusra, phir teesra… (slow).\n",
    "\n",
    "Agar aapke paas 3 chefs (threads) hain → to wo ek saath 3 orders par kaam karenge (fast).\n",
    "\n",
    "👉 Matlab, thread ka use parallel / multitasking kaam karne ke liye hota hai."
   ]
  },
  {
   "cell_type": "code",
   "execution_count": 1,
   "id": "03a284cd",
   "metadata": {},
   "outputs": [
    {
     "name": "stdout",
     "output_type": "stream",
     "text": [
      "Cooking Pizza... step 1\n",
      "Cooking Burger... step 1\n",
      "Cooking Pizza... step 2\n",
      "Cooking Burger... step 2\n",
      "Cooking Pizza... step 3\n",
      "Cooking Burger... step 3\n",
      "All food ready!\n"
     ]
    }
   ],
   "source": [
    "import threading\n",
    "import time\n",
    "\n",
    "def cook(food):\n",
    "    for i in range(3):\n",
    "        print(f\"Cooking {food}... step {i+1}\")\n",
    "        time.sleep(1)\n",
    "\n",
    "# Threads (workers)\n",
    "t1 = threading.Thread(target=cook, args=(\"Pizza\",))\n",
    "t2 = threading.Thread(target=cook, args=(\"Burger\",))\n",
    "\n",
    "# Dono ko start karte hain\n",
    "t1.start()\n",
    "t2.start()\n",
    "\n",
    "t1.join()\n",
    "t2.join()\n",
    "\n",
    "print(\"All food ready!\")\n"
   ]
  },
  {
   "cell_type": "markdown",
   "id": "5bf59046",
   "metadata": {},
   "source": [
    "👉 Yahan Pizza aur Burger dono ek saath cook ho rahe hain, matlab threads ek hi waqt par alag-alag kaam kar rahe hain.\n",
    "\n",
    "🔹 Simple Summary\n",
    "\n",
    "Thread = ek chhota worker jo program ke andar ek specific task karta hai.\n",
    "\n",
    "Multiple threads ek saath chal sakte hain → isko multithreading kehte hain.\n",
    "\n",
    "Lekin Python me ek limit hai (GIL ki wajah se) jo maine aapko pehle samjhaya tha."
   ]
  },
  {
   "cell_type": "markdown",
   "id": "aa7e3dc8",
   "metadata": {},
   "source": [
    "<h1><b> explain the concept of Python's Global Interpreter Lock, or GIL </b></h1>"
   ]
  },
  {
   "cell_type": "markdown",
   "id": "1c3e1f3c",
   "metadata": {},
   "source": [
    "🔹 Python GIL (Global Interpreter Lock)\n",
    "\n",
    "The GIL is a lock inside Python.\n",
    "\n",
    "It makes sure that only one thread runs Python code at a time.\n",
    "\n",
    "Even if you create many threads, only one can run at once.\n",
    "\n",
    "It exists to keep Python’s memory management safe.\n",
    "\n",
    "✅ In one line:\n",
    "The GIL means Python can only run one thread at a time, even if you use multiple threads."
   ]
  }
 ],
 "metadata": {
  "kernelspec": {
   "display_name": "Python 3",
   "language": "python",
   "name": "python3"
  },
  "language_info": {
   "codemirror_mode": {
    "name": "ipython",
    "version": 3
   },
   "file_extension": ".py",
   "mimetype": "text/x-python",
   "name": "python",
   "nbconvert_exporter": "python",
   "pygments_lexer": "ipython3",
   "version": "3.13.5"
  }
 },
 "nbformat": 4,
 "nbformat_minor": 5
}
