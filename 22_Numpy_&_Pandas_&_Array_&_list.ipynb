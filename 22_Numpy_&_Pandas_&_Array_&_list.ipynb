{
 "cells": [
  {
   "cell_type": "markdown",
   "id": "4e6614d4",
   "metadata": {},
   "source": [
    "🔹 NumPy (Numerical Python)\n",
    "\n",
    "📌 Kiya hai?\n",
    "NumPy ek Python library hai jo numerical (numbers ke) operations \n",
    "ke liye use hoti hai.\n",
    "Ye specially arrays ke sath kaam karne ke liye bani hai (jaise\n",
    " Excel ki rows/columns, lekin zyada fast).\n",
    "\n",
    "📌 Kiyo use karte hain?\n",
    "\n",
    "Fast calculations ke liye (normal Python lists se zyada fast hai).\n",
    "\n",
    "Matrix, scientific computing, aur mathematical calculations ke liye.\n",
    "\n",
    "Machine Learning, AI, aur Data Science ka base hai.\n",
    "\n",
    "📌 Best Example (NumPy):"
   ]
  },
  {
   "cell_type": "code",
   "execution_count": 1,
   "id": "9ab87cd3",
   "metadata": {},
   "outputs": [],
   "source": [
    "import numpy as np"
   ]
  },
  {
   "cell_type": "code",
   "execution_count": 6,
   "id": "bf9d30ff",
   "metadata": {},
   "outputs": [
    {
     "name": "stdout",
     "output_type": "stream",
     "text": [
      "[1 2 3 4 5]\n",
      "[10 20 30 40 50]\n",
      "[ 10  40  90 160 250]\n"
     ]
    }
   ],
   "source": [
    "a = np.array([1, 2, 3, 4, 5])\n",
    "b = np.array([10, 20, 30, 40, 50])\n",
    "print(a)\n",
    "print(b)\n",
    "print(a * b)"
   ]
  },
  {
   "cell_type": "code",
   "execution_count": 7,
   "id": "0f0562e3",
   "metadata": {},
   "outputs": [
    {
     "name": "stdout",
     "output_type": "stream",
     "text": [
      "[ 2  4  6  8 10]\n"
     ]
    }
   ],
   "source": [
    "import numpy as np\n",
    "\n",
    "# Normal Python list\n",
    "numbers = [1, 2, 3, 4, 5]\n",
    "\n",
    "# NumPy array\n",
    "arr = np.array(numbers)\n",
    "\n",
    "# Array ke sath operations easy\n",
    "print(arr * 2)  # Output: [2 4 6 8 10]\n"
   ]
  },
  {
   "cell_type": "markdown",
   "id": "d47deb11",
   "metadata": {},
   "source": [
    "🔹 Pandas (Python Data Analysis Library)\n",
    "\n",
    "📌 Kiya hai?\n",
    "Pandas ek Python library hai jo data ko organize karne, analyze karne aur clean karne ke liye use hoti hai.\n",
    "Excel ki tarah rows & columns ke format me data handle karti hai.\n",
    "\n",
    "📌 Kiyo use karte hain?\n",
    "\n",
    "Data ko easily read/write karne ke liye (CSV, Excel, Database se).\n",
    "\n",
    "Data ko filter, sort, group aur analyze karne ke liye.\n",
    "\n",
    "Data Science aur Machine Learning me data cleaning ke liye.\n",
    "\n",
    "📌 Best Example (Pandas):"
   ]
  },
  {
   "cell_type": "code",
   "execution_count": 1,
   "id": "e677b7cc",
   "metadata": {},
   "outputs": [
    {
     "name": "stdout",
     "output_type": "stream",
     "text": [
      "     Name  Age\n",
      "0     Ali   22\n",
      "1  Zohaib   25\n",
      "2    Sara   20\n"
     ]
    }
   ],
   "source": [
    "import pandas as pd\n",
    "\n",
    "# Data bana rahe hain\n",
    "data = {\n",
    "    'Name': ['Ali', 'Zohaib', 'Sara'],\n",
    "    'Age': [22, 25, 20]\n",
    "}\n",
    "\n",
    "# DataFrame banaya (Excel sheet jaisa)\n",
    "df = pd.DataFrame(data)\n",
    "\n",
    "print(df)\n"
   ]
  },
  {
   "cell_type": "markdown",
   "id": "691f883a",
   "metadata": {},
   "source": [
    "🔹 List (Python ka normal data structure)\n",
    "\n",
    "📌 Kiya hai?\n",
    "List ek flexible container hai jisme hum different types ka data rakh sakte hain (numbers, strings, objects sab ek sath).\n",
    "\n",
    "Ye dynamic hai: size change kar sakte ho.\n",
    "\n",
    "Har element alag type ka ho sakta hai.\n",
    "\n",
    "📌 Kiyo use karte hain?\n",
    "\n",
    "Jab mixed data chahiye (e.g. name, age, marks).\n",
    "\n",
    "Python ka basic built-in data structure hai.\n",
    "\n",
    "Easy to use, beginners ke liye best.\n",
    "\n",
    "📌 Example (List):"
   ]
  },
  {
   "cell_type": "code",
   "execution_count": 2,
   "id": "e507e51f",
   "metadata": {},
   "outputs": [
    {
     "name": "stdout",
     "output_type": "stream",
     "text": [
      "[10, 'Zohaib', 3.5, True]\n",
      "Zohaib\n",
      "[10, 'Zohaib', 3.5, True, 99]\n"
     ]
    }
   ],
   "source": [
    "# Python list example\n",
    "my_list = [10, \"Zohaib\", 3.5, True]\n",
    "\n",
    "print(my_list)        # [10, 'Zohaib', 3.5, True]\n",
    "print(my_list[1])     # 'Zohaib'\n",
    "my_list.append(99)    # Element add\n",
    "print(my_list)        # [10, 'Zohaib', 3.5, True, 99]\n"
   ]
  },
  {
   "cell_type": "markdown",
   "id": "75cf20dd",
   "metadata": {},
   "source": [
    "🔹 Array (NumPy array)\n",
    "\n",
    "📌 Kiya hai?\n",
    "Array ek container hai jo sirf same type ke data ko store karta hai (mostly numbers).\n",
    "\n",
    "Ye fast hota hai aur large data ke liye best hai.\n",
    "\n",
    "Mathematical calculations ke liye bana hai.\n",
    "\n",
    "📌 Kiyo use karte hain?\n",
    "\n",
    "Jab speed aur performance important ho.\n",
    "\n",
    "Scientific calculations, Machine Learning, Data Science me.\n",
    "\n",
    "📌 Example (Array):"
   ]
  },
  {
   "cell_type": "code",
   "execution_count": 3,
   "id": "d8431507",
   "metadata": {},
   "outputs": [
    {
     "name": "stdout",
     "output_type": "stream",
     "text": [
      "[10 20 30 40]\n",
      "[20 40 60 80]\n"
     ]
    }
   ],
   "source": [
    "import numpy as np\n",
    "\n",
    "# NumPy array\n",
    "arr = np.array([10, 20, 30, 40])\n",
    "\n",
    "print(arr)         # [10 20 30 40]\n",
    "print(arr * 2)     # [20 40 60 80]\n"
   ]
  }
 ],
 "metadata": {
  "kernelspec": {
   "display_name": "Python 3",
   "language": "python",
   "name": "python3"
  },
  "language_info": {
   "codemirror_mode": {
    "name": "ipython",
    "version": 3
   },
   "file_extension": ".py",
   "mimetype": "text/x-python",
   "name": "python",
   "nbconvert_exporter": "python",
   "pygments_lexer": "ipython3",
   "version": "3.13.5"
  }
 },
 "nbformat": 4,
 "nbformat_minor": 5
}
