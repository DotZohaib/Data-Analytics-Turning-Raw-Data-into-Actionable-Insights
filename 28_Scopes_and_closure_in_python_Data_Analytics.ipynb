{
 "cells": [
  {
   "cell_type": "code",
   "execution_count": 9,
   "id": "d5f2cb5f",
   "metadata": {},
   "outputs": [
    {
     "name": "stdout",
     "output_type": "stream",
     "text": [
      "Zohaib\n",
      "Zohaib\n",
      "Zohaib\n"
     ]
    }
   ],
   "source": [
    "name = \"Zohaib\"\n",
    "\n",
    "def func():\n",
    "    # name = \"DotZohaib\"\n",
    "    print(name)\n",
    "    def dum():\n",
    "        # name = \"DotIqra\"\n",
    "        print(name)\n",
    "    dum()\n",
    "\n",
    "print(name)\n",
    "func()"
   ]
  },
  {
   "cell_type": "code",
   "execution_count": 11,
   "id": "44936b61",
   "metadata": {},
   "outputs": [
    {
     "name": "stdout",
     "output_type": "stream",
     "text": [
      "None\n"
     ]
    }
   ],
   "source": [
    "x = 99\n",
    "\n",
    "def func2(y):\n",
    "    z = x + y\n",
    "    return\n",
    "\n",
    "data = func2(10)\n",
    "print(data)\n",
    "    "
   ]
  },
  {
   "cell_type": "code",
   "execution_count": null,
   "id": "8c3caf77",
   "metadata": {},
   "outputs": [
    {
     "name": "stdout",
     "output_type": "stream",
     "text": [
      "9\n",
      "27\n"
     ]
    }
   ],
   "source": [
    "# cluaser in python\n",
    "\n",
    "def dot(num):\n",
    "    def actual(x):\n",
    "        return x ** num\n",
    "    return actual\n",
    "\n",
    "\n",
    "f = dot(2)\n",
    "g = dot(3)\n",
    "\n",
    "print(f(3))\n",
    "print(g(3))"
   ]
  },
  {
   "cell_type": "code",
   "execution_count": null,
   "id": "ca88b25e",
   "metadata": {},
   "outputs": [],
   "source": []
  }
 ],
 "metadata": {
  "kernelspec": {
   "display_name": "Python 3",
   "language": "python",
   "name": "python3"
  },
  "language_info": {
   "codemirror_mode": {
    "name": "ipython",
    "version": 3
   },
   "file_extension": ".py",
   "mimetype": "text/x-python",
   "name": "python",
   "nbconvert_exporter": "python",
   "pygments_lexer": "ipython3",
   "version": "3.13.5"
  }
 },
 "nbformat": 4,
 "nbformat_minor": 5
}
