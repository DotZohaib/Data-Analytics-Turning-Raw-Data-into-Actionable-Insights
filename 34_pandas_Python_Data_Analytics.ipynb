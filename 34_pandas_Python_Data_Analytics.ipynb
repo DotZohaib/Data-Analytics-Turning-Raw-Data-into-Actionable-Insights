{
 "cells": [
  {
   "cell_type": "code",
   "execution_count": 1,
   "id": "bdfa2fda",
   "metadata": {},
   "outputs": [],
   "source": [
    "import pandas as pd"
   ]
  },
  {
   "cell_type": "code",
   "execution_count": 2,
   "id": "a56173f4",
   "metadata": {},
   "outputs": [],
   "source": [
    "li = { \"Name\" : [\"Zohaib\", \"Iqra\", \"Sara\"], \"Age\" : [20, 19, 20], \"Slary\":[1000000, 200000, 300800]}"
   ]
  },
  {
   "cell_type": "code",
   "execution_count": 3,
   "id": "85c4e952",
   "metadata": {},
   "outputs": [
    {
     "data": {
      "application/vnd.microsoft.datawrangler.viewer.v0+json": {
       "columns": [
        {
         "name": "index",
         "rawType": "int64",
         "type": "integer"
        },
        {
         "name": "Name",
         "rawType": "object",
         "type": "string"
        },
        {
         "name": "Age",
         "rawType": "int64",
         "type": "integer"
        },
        {
         "name": "Slary",
         "rawType": "int64",
         "type": "integer"
        }
       ],
       "ref": "91f1e8bc-6f99-4574-99f8-166a71b74497",
       "rows": [
        [
         "0",
         "Zohaib",
         "20",
         "1000000"
        ],
        [
         "1",
         "Iqra",
         "19",
         "200000"
        ],
        [
         "2",
         "Sara",
         "20",
         "300800"
        ]
       ],
       "shape": {
        "columns": 3,
        "rows": 3
       }
      },
      "text/html": [
       "<div>\n",
       "<style scoped>\n",
       "    .dataframe tbody tr th:only-of-type {\n",
       "        vertical-align: middle;\n",
       "    }\n",
       "\n",
       "    .dataframe tbody tr th {\n",
       "        vertical-align: top;\n",
       "    }\n",
       "\n",
       "    .dataframe thead th {\n",
       "        text-align: right;\n",
       "    }\n",
       "</style>\n",
       "<table border=\"1\" class=\"dataframe\">\n",
       "  <thead>\n",
       "    <tr style=\"text-align: right;\">\n",
       "      <th></th>\n",
       "      <th>Name</th>\n",
       "      <th>Age</th>\n",
       "      <th>Slary</th>\n",
       "    </tr>\n",
       "  </thead>\n",
       "  <tbody>\n",
       "    <tr>\n",
       "      <th>0</th>\n",
       "      <td>Zohaib</td>\n",
       "      <td>20</td>\n",
       "      <td>1000000</td>\n",
       "    </tr>\n",
       "    <tr>\n",
       "      <th>1</th>\n",
       "      <td>Iqra</td>\n",
       "      <td>19</td>\n",
       "      <td>200000</td>\n",
       "    </tr>\n",
       "    <tr>\n",
       "      <th>2</th>\n",
       "      <td>Sara</td>\n",
       "      <td>20</td>\n",
       "      <td>300800</td>\n",
       "    </tr>\n",
       "  </tbody>\n",
       "</table>\n",
       "</div>"
      ],
      "text/plain": [
       "     Name  Age    Slary\n",
       "0  Zohaib   20  1000000\n",
       "1    Iqra   19   200000\n",
       "2    Sara   20   300800"
      ]
     },
     "execution_count": 3,
     "metadata": {},
     "output_type": "execute_result"
    }
   ],
   "source": [
    "pd.DataFrame(li)"
   ]
  },
  {
   "cell_type": "code",
   "execution_count": 14,
   "id": "92eb2c06",
   "metadata": {},
   "outputs": [
    {
     "data": {
      "application/vnd.microsoft.datawrangler.viewer.v0+json": {
       "columns": [
        {
         "name": "index",
         "rawType": "int64",
         "type": "integer"
        },
        {
         "name": "Name",
         "rawType": "object",
         "type": "string"
        },
        {
         "name": "Age",
         "rawType": "int64",
         "type": "integer"
        },
        {
         "name": "Experience (Years)",
         "rawType": "int64",
         "type": "integer"
        },
        {
         "name": "Education (Years)",
         "rawType": "int64",
         "type": "integer"
        },
        {
         "name": "Salary",
         "rawType": "float64",
         "type": "float"
        }
       ],
       "ref": "c5dbef5e-cd15-4c41-aea6-32e3aa24ac4b",
       "rows": [
        [
         "0",
         "Mr. Johnathan Davis",
         "56",
         "8",
         "15",
         "14372.4"
        ],
        [
         "1",
         "Kelly Reed",
         "46",
         "7",
         "10",
         "12641.59"
        ],
        [
         "2",
         "Chelsea Moore",
         "32",
         "11",
         "18",
         "13918.89"
        ],
        [
         "3",
         "Paige Goodwin",
         "25",
         "33",
         "15",
         "16396.54"
        ],
        [
         "4",
         "Kelly Rosario",
         "38",
         "32",
         "12",
         "15350.48"
        ]
       ],
       "shape": {
        "columns": 5,
        "rows": 5
       }
      },
      "text/html": [
       "<div>\n",
       "<style scoped>\n",
       "    .dataframe tbody tr th:only-of-type {\n",
       "        vertical-align: middle;\n",
       "    }\n",
       "\n",
       "    .dataframe tbody tr th {\n",
       "        vertical-align: top;\n",
       "    }\n",
       "\n",
       "    .dataframe thead th {\n",
       "        text-align: right;\n",
       "    }\n",
       "</style>\n",
       "<table border=\"1\" class=\"dataframe\">\n",
       "  <thead>\n",
       "    <tr style=\"text-align: right;\">\n",
       "      <th></th>\n",
       "      <th>Name</th>\n",
       "      <th>Age</th>\n",
       "      <th>Experience (Years)</th>\n",
       "      <th>Education (Years)</th>\n",
       "      <th>Salary</th>\n",
       "    </tr>\n",
       "  </thead>\n",
       "  <tbody>\n",
       "    <tr>\n",
       "      <th>0</th>\n",
       "      <td>Mr. Johnathan Davis</td>\n",
       "      <td>56</td>\n",
       "      <td>8</td>\n",
       "      <td>15</td>\n",
       "      <td>14372.40</td>\n",
       "    </tr>\n",
       "    <tr>\n",
       "      <th>1</th>\n",
       "      <td>Kelly Reed</td>\n",
       "      <td>46</td>\n",
       "      <td>7</td>\n",
       "      <td>10</td>\n",
       "      <td>12641.59</td>\n",
       "    </tr>\n",
       "    <tr>\n",
       "      <th>2</th>\n",
       "      <td>Chelsea Moore</td>\n",
       "      <td>32</td>\n",
       "      <td>11</td>\n",
       "      <td>18</td>\n",
       "      <td>13918.89</td>\n",
       "    </tr>\n",
       "    <tr>\n",
       "      <th>3</th>\n",
       "      <td>Paige Goodwin</td>\n",
       "      <td>25</td>\n",
       "      <td>33</td>\n",
       "      <td>15</td>\n",
       "      <td>16396.54</td>\n",
       "    </tr>\n",
       "    <tr>\n",
       "      <th>4</th>\n",
       "      <td>Kelly Rosario</td>\n",
       "      <td>38</td>\n",
       "      <td>32</td>\n",
       "      <td>12</td>\n",
       "      <td>15350.48</td>\n",
       "    </tr>\n",
       "  </tbody>\n",
       "</table>\n",
       "</div>"
      ],
      "text/plain": [
       "                  Name  Age  Experience (Years)  Education (Years)    Salary\n",
       "0  Mr. Johnathan Davis   56                   8                 15  14372.40\n",
       "1           Kelly Reed   46                   7                 10  12641.59\n",
       "2        Chelsea Moore   32                  11                 18  13918.89\n",
       "3        Paige Goodwin   25                  33                 15  16396.54\n",
       "4        Kelly Rosario   38                  32                 12  15350.48"
      ]
     },
     "execution_count": 14,
     "metadata": {},
     "output_type": "execute_result"
    }
   ],
   "source": [
    "database = pd.read_excel(\"multiple_linear_regression.xlsx\")\n",
    "database.head(5)"
   ]
  },
  {
   "cell_type": "code",
   "execution_count": 15,
   "id": "fe66609c",
   "metadata": {},
   "outputs": [],
   "source": [
    "# database.drop(columns=[\"Name\"], inplace=True)"
   ]
  },
  {
   "cell_type": "code",
   "execution_count": 16,
   "id": "e855e322",
   "metadata": {},
   "outputs": [
    {
     "data": {
      "application/vnd.microsoft.datawrangler.viewer.v0+json": {
       "columns": [
        {
         "name": "index",
         "rawType": "int64",
         "type": "integer"
        },
        {
         "name": "Name",
         "rawType": "object",
         "type": "string"
        },
        {
         "name": "Age",
         "rawType": "int64",
         "type": "integer"
        },
        {
         "name": "Experience (Years)",
         "rawType": "int64",
         "type": "integer"
        },
        {
         "name": "Education (Years)",
         "rawType": "int64",
         "type": "integer"
        },
        {
         "name": "Salary",
         "rawType": "float64",
         "type": "float"
        }
       ],
       "ref": "6d0d2b0f-7350-4ee0-93f4-3ee7f63de4a1",
       "rows": [
        [
         "0",
         "Mr. Johnathan Davis",
         "56",
         "8",
         "15",
         "14372.4"
        ],
        [
         "1",
         "Kelly Reed",
         "46",
         "7",
         "10",
         "12641.59"
        ],
        [
         "2",
         "Chelsea Moore",
         "32",
         "11",
         "18",
         "13918.89"
        ],
        [
         "3",
         "Paige Goodwin",
         "25",
         "33",
         "15",
         "16396.54"
        ],
        [
         "4",
         "Kelly Rosario",
         "38",
         "32",
         "12",
         "15350.48"
        ],
        [
         "5",
         "Kyle Haynes",
         "56",
         "22",
         "13",
         "16503.1"
        ],
        [
         "6",
         "Tara Graves",
         "36",
         "23",
         "13",
         "14188.8"
        ],
        [
         "7",
         "Christopher Ellis",
         "40",
         "36",
         "12",
         "15650.93"
        ],
        [
         "8",
         "Travis Bryan",
         "28",
         "34",
         "19",
         "14558.6"
        ],
        [
         "9",
         "Grant Smith",
         "28",
         "39",
         "12",
         "14578.31"
        ],
        [
         "10",
         "Bradley Adams",
         "41",
         "21",
         "12",
         "13402.28"
        ],
        [
         "11",
         "Miguel Martinez",
         "53",
         "26",
         "13",
         "18839.6"
        ],
        [
         "12",
         "Brandon Oliver",
         "57",
         "34",
         "16",
         "19094.76"
        ],
        [
         "13",
         "Michael Hammond",
         "41",
         "0",
         "13",
         "9422.94"
        ],
        [
         "14",
         "Jennifer Davis",
         "20",
         "34",
         "18",
         "15482.84"
        ],
        [
         "15",
         "Jessica Montgomery",
         "39",
         "36",
         "10",
         "16600.7"
        ],
        [
         "16",
         "Tyler Lewis",
         "19",
         "13",
         "17",
         "10568.64"
        ],
        [
         "17",
         "Elizabeth Kramer",
         "41",
         "2",
         "16",
         "10421.82"
        ],
        [
         "18",
         "Kristie Davis",
         "47",
         "0",
         "11",
         "9348.11"
        ],
        [
         "19",
         "Sharon Goodman",
         "55",
         "4",
         "17",
         "14217.72"
        ],
        [
         "20",
         "Autumn Stewart DDS",
         "19",
         "25",
         "10",
         "10298.57"
        ],
        [
         "21",
         "Linda Williams",
         "38",
         "13",
         "18",
         "12589.51"
        ],
        [
         "22",
         "Michael Peters",
         "50",
         "38",
         "18",
         "19167.05"
        ],
        [
         "23",
         "Jennifer Holt",
         "29",
         "26",
         "11",
         "13845.35"
        ],
        [
         "24",
         "Carrie Reed",
         "39",
         "8",
         "16",
         "11494.06"
        ],
        [
         "25",
         "Stephanie Jones",
         "42",
         "14",
         "19",
         "13872.27"
        ],
        [
         "26",
         "Chelsea Pugh",
         "44",
         "14",
         "12",
         "12039.44"
        ],
        [
         "27",
         "Barbara Patel",
         "59",
         "25",
         "16",
         "20450.35"
        ],
        [
         "28",
         "Debbie Richardson",
         "45",
         "12",
         "19",
         "12849.87"
        ],
        [
         "29",
         "Julie Harrison",
         "33",
         "31",
         "18",
         "17151.38"
        ],
        [
         "30",
         "Karen Gibson",
         "32",
         "38",
         "13",
         "16849.83"
        ],
        [
         "31",
         "Heather Davis",
         "20",
         "31",
         "10",
         "13340.91"
        ],
        [
         "32",
         "Michael Stevens",
         "54",
         "3",
         "11",
         "13154.42"
        ],
        [
         "33",
         "Douglas Ramirez",
         "24",
         "29",
         "10",
         "11519.69"
        ],
        [
         "34",
         "Ann Herrera",
         "38",
         "36",
         "14",
         "18266.39"
        ],
        [
         "35",
         "Lance Lucero",
         "26",
         "22",
         "14",
         "12189.06"
        ],
        [
         "36",
         "Laura Aguilar",
         "56",
         "38",
         "16",
         "21810.4"
        ],
        [
         "37",
         "Roy Wolf",
         "35",
         "14",
         "18",
         "12698.76"
        ],
        [
         "38",
         "Andrew Graham Jr.",
         "21",
         "28",
         "18",
         "13175.48"
        ],
        [
         "39",
         "Stacey Stevenson",
         "42",
         "35",
         "12",
         "16208.78"
        ],
        [
         "40",
         "Thomas Davis",
         "31",
         "12",
         "12",
         "10484.49"
        ],
        [
         "41",
         "Michael Morris",
         "26",
         "31",
         "12",
         "14722.31"
        ],
        [
         "42",
         "Chad Stevens",
         "43",
         "6",
         "13",
         "10642.09"
        ],
        [
         "43",
         "Russell Edwards",
         "19",
         "21",
         "17",
         "9759.4"
        ],
        [
         "44",
         "Kayla Garcia",
         "37",
         "27",
         "15",
         "14592.45"
        ],
        [
         "45",
         "Eric Snyder",
         "45",
         "1",
         "17",
         "12490.01"
        ],
        [
         "46",
         "Maria Wheeler",
         "24",
         "5",
         "10",
         "10381.29"
        ],
        [
         "47",
         "Mrs. Margaret Lyons",
         "25",
         "27",
         "17",
         "13172.58"
        ],
        [
         "48",
         "Kimberly Brown",
         "52",
         "27",
         "13",
         "15951.17"
        ],
        [
         "49",
         "Mr. Jeremy Powers",
         "31",
         "19",
         "10",
         "12106.87"
        ]
       ],
       "shape": {
        "columns": 5,
        "rows": 100
       }
      },
      "text/html": [
       "<div>\n",
       "<style scoped>\n",
       "    .dataframe tbody tr th:only-of-type {\n",
       "        vertical-align: middle;\n",
       "    }\n",
       "\n",
       "    .dataframe tbody tr th {\n",
       "        vertical-align: top;\n",
       "    }\n",
       "\n",
       "    .dataframe thead th {\n",
       "        text-align: right;\n",
       "    }\n",
       "</style>\n",
       "<table border=\"1\" class=\"dataframe\">\n",
       "  <thead>\n",
       "    <tr style=\"text-align: right;\">\n",
       "      <th></th>\n",
       "      <th>Name</th>\n",
       "      <th>Age</th>\n",
       "      <th>Experience (Years)</th>\n",
       "      <th>Education (Years)</th>\n",
       "      <th>Salary</th>\n",
       "    </tr>\n",
       "  </thead>\n",
       "  <tbody>\n",
       "    <tr>\n",
       "      <th>0</th>\n",
       "      <td>Mr. Johnathan Davis</td>\n",
       "      <td>56</td>\n",
       "      <td>8</td>\n",
       "      <td>15</td>\n",
       "      <td>14372.40</td>\n",
       "    </tr>\n",
       "    <tr>\n",
       "      <th>1</th>\n",
       "      <td>Kelly Reed</td>\n",
       "      <td>46</td>\n",
       "      <td>7</td>\n",
       "      <td>10</td>\n",
       "      <td>12641.59</td>\n",
       "    </tr>\n",
       "    <tr>\n",
       "      <th>2</th>\n",
       "      <td>Chelsea Moore</td>\n",
       "      <td>32</td>\n",
       "      <td>11</td>\n",
       "      <td>18</td>\n",
       "      <td>13918.89</td>\n",
       "    </tr>\n",
       "    <tr>\n",
       "      <th>3</th>\n",
       "      <td>Paige Goodwin</td>\n",
       "      <td>25</td>\n",
       "      <td>33</td>\n",
       "      <td>15</td>\n",
       "      <td>16396.54</td>\n",
       "    </tr>\n",
       "    <tr>\n",
       "      <th>4</th>\n",
       "      <td>Kelly Rosario</td>\n",
       "      <td>38</td>\n",
       "      <td>32</td>\n",
       "      <td>12</td>\n",
       "      <td>15350.48</td>\n",
       "    </tr>\n",
       "    <tr>\n",
       "      <th>...</th>\n",
       "      <td>...</td>\n",
       "      <td>...</td>\n",
       "      <td>...</td>\n",
       "      <td>...</td>\n",
       "      <td>...</td>\n",
       "    </tr>\n",
       "    <tr>\n",
       "      <th>95</th>\n",
       "      <td>Stacy Oneill</td>\n",
       "      <td>59</td>\n",
       "      <td>37</td>\n",
       "      <td>10</td>\n",
       "      <td>18533.58</td>\n",
       "    </tr>\n",
       "    <tr>\n",
       "      <th>96</th>\n",
       "      <td>Michelle Delgado</td>\n",
       "      <td>56</td>\n",
       "      <td>23</td>\n",
       "      <td>14</td>\n",
       "      <td>16357.04</td>\n",
       "    </tr>\n",
       "    <tr>\n",
       "      <th>97</th>\n",
       "      <td>Jacob Watkins</td>\n",
       "      <td>58</td>\n",
       "      <td>4</td>\n",
       "      <td>15</td>\n",
       "      <td>15326.47</td>\n",
       "    </tr>\n",
       "    <tr>\n",
       "      <th>98</th>\n",
       "      <td>David Stone</td>\n",
       "      <td>45</td>\n",
       "      <td>33</td>\n",
       "      <td>12</td>\n",
       "      <td>17998.65</td>\n",
       "    </tr>\n",
       "    <tr>\n",
       "      <th>99</th>\n",
       "      <td>Sara Patel</td>\n",
       "      <td>24</td>\n",
       "      <td>5</td>\n",
       "      <td>18</td>\n",
       "      <td>9321.27</td>\n",
       "    </tr>\n",
       "  </tbody>\n",
       "</table>\n",
       "<p>100 rows × 5 columns</p>\n",
       "</div>"
      ],
      "text/plain": [
       "                   Name  Age  Experience (Years)  Education (Years)    Salary\n",
       "0   Mr. Johnathan Davis   56                   8                 15  14372.40\n",
       "1            Kelly Reed   46                   7                 10  12641.59\n",
       "2         Chelsea Moore   32                  11                 18  13918.89\n",
       "3         Paige Goodwin   25                  33                 15  16396.54\n",
       "4         Kelly Rosario   38                  32                 12  15350.48\n",
       "..                  ...  ...                 ...                ...       ...\n",
       "95         Stacy Oneill   59                  37                 10  18533.58\n",
       "96     Michelle Delgado   56                  23                 14  16357.04\n",
       "97        Jacob Watkins   58                   4                 15  15326.47\n",
       "98          David Stone   45                  33                 12  17998.65\n",
       "99           Sara Patel   24                   5                 18   9321.27\n",
       "\n",
       "[100 rows x 5 columns]"
      ]
     },
     "execution_count": 16,
     "metadata": {},
     "output_type": "execute_result"
    }
   ],
   "source": [
    "database"
   ]
  },
  {
   "cell_type": "code",
   "execution_count": 17,
   "id": "93ab65a4",
   "metadata": {},
   "outputs": [
    {
     "data": {
      "application/vnd.microsoft.datawrangler.viewer.v0+json": {
       "columns": [
        {
         "name": "index",
         "rawType": "object",
         "type": "string"
        },
        {
         "name": "0",
         "rawType": "int64",
         "type": "integer"
        }
       ],
       "ref": "67587912-5b47-4ace-bfd8-d950eefad966",
       "rows": [
        [
         "Name",
         "0"
        ],
        [
         "Age",
         "0"
        ],
        [
         "Experience (Years)",
         "0"
        ],
        [
         "Education (Years)",
         "0"
        ],
        [
         "Salary",
         "0"
        ]
       ],
       "shape": {
        "columns": 1,
        "rows": 5
       }
      },
      "text/plain": [
       "Name                  0\n",
       "Age                   0\n",
       "Experience (Years)    0\n",
       "Education (Years)     0\n",
       "Salary                0\n",
       "dtype: int64"
      ]
     },
     "execution_count": 17,
     "metadata": {},
     "output_type": "execute_result"
    }
   ],
   "source": [
    "database.isnull().sum()"
   ]
  },
  {
   "cell_type": "code",
   "execution_count": 18,
   "id": "e9b5f577",
   "metadata": {},
   "outputs": [
    {
     "data": {
      "text/plain": [
       "(100, 5)"
      ]
     },
     "execution_count": 18,
     "metadata": {},
     "output_type": "execute_result"
    }
   ],
   "source": [
    "database.shape"
   ]
  },
  {
   "cell_type": "code",
   "execution_count": 19,
   "id": "b0cb92a2",
   "metadata": {},
   "outputs": [
    {
     "name": "stdout",
     "output_type": "stream",
     "text": [
      "<class 'pandas.core.frame.DataFrame'>\n",
      "RangeIndex: 100 entries, 0 to 99\n",
      "Data columns (total 5 columns):\n",
      " #   Column              Non-Null Count  Dtype  \n",
      "---  ------              --------------  -----  \n",
      " 0   Name                100 non-null    object \n",
      " 1   Age                 100 non-null    int64  \n",
      " 2   Experience (Years)  100 non-null    int64  \n",
      " 3   Education (Years)   100 non-null    int64  \n",
      " 4   Salary              100 non-null    float64\n",
      "dtypes: float64(1), int64(3), object(1)\n",
      "memory usage: 4.0+ KB\n"
     ]
    }
   ],
   "source": [
    "database.info()"
   ]
  },
  {
   "cell_type": "code",
   "execution_count": 20,
   "id": "c7f494dc",
   "metadata": {},
   "outputs": [
    {
     "data": {
      "application/vnd.microsoft.datawrangler.viewer.v0+json": {
       "columns": [
        {
         "name": "index",
         "rawType": "object",
         "type": "string"
        },
        {
         "name": "Age",
         "rawType": "float64",
         "type": "float"
        },
        {
         "name": "Experience (Years)",
         "rawType": "float64",
         "type": "float"
        },
        {
         "name": "Education (Years)",
         "rawType": "float64",
         "type": "float"
        },
        {
         "name": "Salary",
         "rawType": "float64",
         "type": "float"
        }
       ],
       "ref": "15424bcc-9ab3-4cec-b948-6f1bcd868513",
       "rows": [
        [
         "count",
         "100.0",
         "100.0",
         "100.0",
         "100.0"
        ],
        [
         "mean",
         "37.91",
         "20.41",
         "13.86",
         "14125.6547"
        ],
        [
         "std",
         "12.219453772777674",
         "12.60518972807661",
         "2.7744141250674415",
         "3084.5053461456214"
        ],
        [
         "min",
         "18.0",
         "0.0",
         "10.0",
         "6700.62"
        ],
        [
         "25%",
         "26.75",
         "8.0",
         "12.0",
         "12018.86"
        ],
        [
         "50%",
         "38.0",
         "23.0",
         "13.0",
         "13895.58"
        ],
        [
         "75%",
         "46.25",
         "31.0",
         "16.0",
         "16366.915"
        ],
        [
         "max",
         "59.0",
         "39.0",
         "19.0",
         "21810.4"
        ]
       ],
       "shape": {
        "columns": 4,
        "rows": 8
       }
      },
      "text/html": [
       "<div>\n",
       "<style scoped>\n",
       "    .dataframe tbody tr th:only-of-type {\n",
       "        vertical-align: middle;\n",
       "    }\n",
       "\n",
       "    .dataframe tbody tr th {\n",
       "        vertical-align: top;\n",
       "    }\n",
       "\n",
       "    .dataframe thead th {\n",
       "        text-align: right;\n",
       "    }\n",
       "</style>\n",
       "<table border=\"1\" class=\"dataframe\">\n",
       "  <thead>\n",
       "    <tr style=\"text-align: right;\">\n",
       "      <th></th>\n",
       "      <th>Age</th>\n",
       "      <th>Experience (Years)</th>\n",
       "      <th>Education (Years)</th>\n",
       "      <th>Salary</th>\n",
       "    </tr>\n",
       "  </thead>\n",
       "  <tbody>\n",
       "    <tr>\n",
       "      <th>count</th>\n",
       "      <td>100.000000</td>\n",
       "      <td>100.00000</td>\n",
       "      <td>100.000000</td>\n",
       "      <td>100.000000</td>\n",
       "    </tr>\n",
       "    <tr>\n",
       "      <th>mean</th>\n",
       "      <td>37.910000</td>\n",
       "      <td>20.41000</td>\n",
       "      <td>13.860000</td>\n",
       "      <td>14125.654700</td>\n",
       "    </tr>\n",
       "    <tr>\n",
       "      <th>std</th>\n",
       "      <td>12.219454</td>\n",
       "      <td>12.60519</td>\n",
       "      <td>2.774414</td>\n",
       "      <td>3084.505346</td>\n",
       "    </tr>\n",
       "    <tr>\n",
       "      <th>min</th>\n",
       "      <td>18.000000</td>\n",
       "      <td>0.00000</td>\n",
       "      <td>10.000000</td>\n",
       "      <td>6700.620000</td>\n",
       "    </tr>\n",
       "    <tr>\n",
       "      <th>25%</th>\n",
       "      <td>26.750000</td>\n",
       "      <td>8.00000</td>\n",
       "      <td>12.000000</td>\n",
       "      <td>12018.860000</td>\n",
       "    </tr>\n",
       "    <tr>\n",
       "      <th>50%</th>\n",
       "      <td>38.000000</td>\n",
       "      <td>23.00000</td>\n",
       "      <td>13.000000</td>\n",
       "      <td>13895.580000</td>\n",
       "    </tr>\n",
       "    <tr>\n",
       "      <th>75%</th>\n",
       "      <td>46.250000</td>\n",
       "      <td>31.00000</td>\n",
       "      <td>16.000000</td>\n",
       "      <td>16366.915000</td>\n",
       "    </tr>\n",
       "    <tr>\n",
       "      <th>max</th>\n",
       "      <td>59.000000</td>\n",
       "      <td>39.00000</td>\n",
       "      <td>19.000000</td>\n",
       "      <td>21810.400000</td>\n",
       "    </tr>\n",
       "  </tbody>\n",
       "</table>\n",
       "</div>"
      ],
      "text/plain": [
       "              Age  Experience (Years)  Education (Years)        Salary\n",
       "count  100.000000           100.00000         100.000000    100.000000\n",
       "mean    37.910000            20.41000          13.860000  14125.654700\n",
       "std     12.219454            12.60519           2.774414   3084.505346\n",
       "min     18.000000             0.00000          10.000000   6700.620000\n",
       "25%     26.750000             8.00000          12.000000  12018.860000\n",
       "50%     38.000000            23.00000          13.000000  13895.580000\n",
       "75%     46.250000            31.00000          16.000000  16366.915000\n",
       "max     59.000000            39.00000          19.000000  21810.400000"
      ]
     },
     "execution_count": 20,
     "metadata": {},
     "output_type": "execute_result"
    }
   ],
   "source": [
    "database.describe()"
   ]
  },
  {
   "cell_type": "code",
   "execution_count": 27,
   "id": "e876533e",
   "metadata": {},
   "outputs": [
    {
     "data": {
      "text/plain": [
       "np.int64(0)"
      ]
     },
     "execution_count": 27,
     "metadata": {},
     "output_type": "execute_result"
    }
   ],
   "source": [
    "# data : int =database[\"Name\"].duplicated().sum()\n",
    "data : int =database.duplicated().sum()\n",
    "data"
   ]
  },
  {
   "cell_type": "code",
   "execution_count": 29,
   "id": "eb83e20b",
   "metadata": {},
   "outputs": [],
   "source": [
    "database.drop_duplicates(inplace=True)"
   ]
  },
  {
   "cell_type": "code",
   "execution_count": 30,
   "id": "96bba33e",
   "metadata": {},
   "outputs": [],
   "source": [
    "database.dropna(inplace=True)"
   ]
  }
 ],
 "metadata": {
  "kernelspec": {
   "display_name": "Python 3",
   "language": "python",
   "name": "python3"
  },
  "language_info": {
   "codemirror_mode": {
    "name": "ipython",
    "version": 3
   },
   "file_extension": ".py",
   "mimetype": "text/x-python",
   "name": "python",
   "nbconvert_exporter": "python",
   "pygments_lexer": "ipython3",
   "version": "3.13.5"
  }
 },
 "nbformat": 4,
 "nbformat_minor": 5
}
