{
 "cells": [
  {
   "cell_type": "code",
   "execution_count": 3,
   "id": "bdfa2fda",
   "metadata": {},
   "outputs": [],
   "source": [
    "import pandas as pd"
   ]
  },
  {
   "cell_type": "code",
   "execution_count": 4,
   "id": "a56173f4",
   "metadata": {},
   "outputs": [],
   "source": [
    "li = { \"Name\" : [\"Zohaib\", \"Iqra\", \"Sara\"], \"Age\" : [20, 19, 20], \"Slary\":[1000000, 200000, 300800]}"
   ]
  },
  {
   "cell_type": "code",
   "execution_count": 5,
   "id": "85c4e952",
   "metadata": {},
   "outputs": [
    {
     "data": {
      "application/vnd.microsoft.datawrangler.viewer.v0+json": {
       "columns": [
        {
         "name": "index",
         "rawType": "int64",
         "type": "integer"
        },
        {
         "name": "Name",
         "rawType": "object",
         "type": "string"
        },
        {
         "name": "Age",
         "rawType": "int64",
         "type": "integer"
        },
        {
         "name": "Slary",
         "rawType": "int64",
         "type": "integer"
        }
       ],
       "ref": "61afdd8c-b805-4388-925c-2f3b8e4bc949",
       "rows": [
        [
         "0",
         "Zohaib",
         "20",
         "1000000"
        ],
        [
         "1",
         "Iqra",
         "19",
         "200000"
        ],
        [
         "2",
         "Sara",
         "20",
         "300800"
        ]
       ],
       "shape": {
        "columns": 3,
        "rows": 3
       }
      },
      "text/html": [
       "<div>\n",
       "<style scoped>\n",
       "    .dataframe tbody tr th:only-of-type {\n",
       "        vertical-align: middle;\n",
       "    }\n",
       "\n",
       "    .dataframe tbody tr th {\n",
       "        vertical-align: top;\n",
       "    }\n",
       "\n",
       "    .dataframe thead th {\n",
       "        text-align: right;\n",
       "    }\n",
       "</style>\n",
       "<table border=\"1\" class=\"dataframe\">\n",
       "  <thead>\n",
       "    <tr style=\"text-align: right;\">\n",
       "      <th></th>\n",
       "      <th>Name</th>\n",
       "      <th>Age</th>\n",
       "      <th>Slary</th>\n",
       "    </tr>\n",
       "  </thead>\n",
       "  <tbody>\n",
       "    <tr>\n",
       "      <th>0</th>\n",
       "      <td>Zohaib</td>\n",
       "      <td>20</td>\n",
       "      <td>1000000</td>\n",
       "    </tr>\n",
       "    <tr>\n",
       "      <th>1</th>\n",
       "      <td>Iqra</td>\n",
       "      <td>19</td>\n",
       "      <td>200000</td>\n",
       "    </tr>\n",
       "    <tr>\n",
       "      <th>2</th>\n",
       "      <td>Sara</td>\n",
       "      <td>20</td>\n",
       "      <td>300800</td>\n",
       "    </tr>\n",
       "  </tbody>\n",
       "</table>\n",
       "</div>"
      ],
      "text/plain": [
       "     Name  Age    Slary\n",
       "0  Zohaib   20  1000000\n",
       "1    Iqra   19   200000\n",
       "2    Sara   20   300800"
      ]
     },
     "execution_count": 5,
     "metadata": {},
     "output_type": "execute_result"
    }
   ],
   "source": [
    "pd.DataFrame(li)"
   ]
  },
  {
   "cell_type": "code",
   "execution_count": 6,
   "id": "92eb2c06",
   "metadata": {},
   "outputs": [
    {
     "data": {
      "application/vnd.microsoft.datawrangler.viewer.v0+json": {
       "columns": [
        {
         "name": "index",
         "rawType": "int64",
         "type": "integer"
        },
        {
         "name": "Name",
         "rawType": "object",
         "type": "string"
        },
        {
         "name": "Age",
         "rawType": "int64",
         "type": "integer"
        },
        {
         "name": "Experience (Years)",
         "rawType": "int64",
         "type": "integer"
        },
        {
         "name": "Education (Years)",
         "rawType": "int64",
         "type": "integer"
        },
        {
         "name": "Salary",
         "rawType": "float64",
         "type": "float"
        }
       ],
       "ref": "906b7450-b7c0-43f9-a379-97ab5528247e",
       "rows": [
        [
         "0",
         "Mr. Johnathan Davis",
         "56",
         "8",
         "15",
         "14372.4"
        ],
        [
         "1",
         "Kelly Reed",
         "46",
         "7",
         "10",
         "12641.59"
        ],
        [
         "2",
         "Chelsea Moore",
         "32",
         "11",
         "18",
         "13918.89"
        ],
        [
         "3",
         "Paige Goodwin",
         "25",
         "33",
         "15",
         "16396.54"
        ],
        [
         "4",
         "Kelly Rosario",
         "38",
         "32",
         "12",
         "15350.48"
        ]
       ],
       "shape": {
        "columns": 5,
        "rows": 5
       }
      },
      "text/html": [
       "<div>\n",
       "<style scoped>\n",
       "    .dataframe tbody tr th:only-of-type {\n",
       "        vertical-align: middle;\n",
       "    }\n",
       "\n",
       "    .dataframe tbody tr th {\n",
       "        vertical-align: top;\n",
       "    }\n",
       "\n",
       "    .dataframe thead th {\n",
       "        text-align: right;\n",
       "    }\n",
       "</style>\n",
       "<table border=\"1\" class=\"dataframe\">\n",
       "  <thead>\n",
       "    <tr style=\"text-align: right;\">\n",
       "      <th></th>\n",
       "      <th>Name</th>\n",
       "      <th>Age</th>\n",
       "      <th>Experience (Years)</th>\n",
       "      <th>Education (Years)</th>\n",
       "      <th>Salary</th>\n",
       "    </tr>\n",
       "  </thead>\n",
       "  <tbody>\n",
       "    <tr>\n",
       "      <th>0</th>\n",
       "      <td>Mr. Johnathan Davis</td>\n",
       "      <td>56</td>\n",
       "      <td>8</td>\n",
       "      <td>15</td>\n",
       "      <td>14372.40</td>\n",
       "    </tr>\n",
       "    <tr>\n",
       "      <th>1</th>\n",
       "      <td>Kelly Reed</td>\n",
       "      <td>46</td>\n",
       "      <td>7</td>\n",
       "      <td>10</td>\n",
       "      <td>12641.59</td>\n",
       "    </tr>\n",
       "    <tr>\n",
       "      <th>2</th>\n",
       "      <td>Chelsea Moore</td>\n",
       "      <td>32</td>\n",
       "      <td>11</td>\n",
       "      <td>18</td>\n",
       "      <td>13918.89</td>\n",
       "    </tr>\n",
       "    <tr>\n",
       "      <th>3</th>\n",
       "      <td>Paige Goodwin</td>\n",
       "      <td>25</td>\n",
       "      <td>33</td>\n",
       "      <td>15</td>\n",
       "      <td>16396.54</td>\n",
       "    </tr>\n",
       "    <tr>\n",
       "      <th>4</th>\n",
       "      <td>Kelly Rosario</td>\n",
       "      <td>38</td>\n",
       "      <td>32</td>\n",
       "      <td>12</td>\n",
       "      <td>15350.48</td>\n",
       "    </tr>\n",
       "  </tbody>\n",
       "</table>\n",
       "</div>"
      ],
      "text/plain": [
       "                  Name  Age  Experience (Years)  Education (Years)    Salary\n",
       "0  Mr. Johnathan Davis   56                   8                 15  14372.40\n",
       "1           Kelly Reed   46                   7                 10  12641.59\n",
       "2        Chelsea Moore   32                  11                 18  13918.89\n",
       "3        Paige Goodwin   25                  33                 15  16396.54\n",
       "4        Kelly Rosario   38                  32                 12  15350.48"
      ]
     },
     "execution_count": 6,
     "metadata": {},
     "output_type": "execute_result"
    }
   ],
   "source": [
    "database = pd.read_excel(\"multiple_linear_regression.xlsx\")\n",
    "database.head(5)"
   ]
  },
  {
   "cell_type": "code",
   "execution_count": 7,
   "id": "fe66609c",
   "metadata": {},
   "outputs": [],
   "source": [
    "# database.drop(columns=[\"Name\"], inplace=True)"
   ]
  },
  {
   "cell_type": "code",
   "execution_count": 8,
   "id": "e855e322",
   "metadata": {},
   "outputs": [
    {
     "data": {
      "application/vnd.microsoft.datawrangler.viewer.v0+json": {
       "columns": [
        {
         "name": "index",
         "rawType": "int64",
         "type": "integer"
        },
        {
         "name": "Name",
         "rawType": "object",
         "type": "string"
        },
        {
         "name": "Age",
         "rawType": "int64",
         "type": "integer"
        },
        {
         "name": "Experience (Years)",
         "rawType": "int64",
         "type": "integer"
        },
        {
         "name": "Education (Years)",
         "rawType": "int64",
         "type": "integer"
        },
        {
         "name": "Salary",
         "rawType": "float64",
         "type": "float"
        }
       ],
       "ref": "a93a24c1-f8dc-4b77-bab3-a23728536be5",
       "rows": [
        [
         "0",
         "Mr. Johnathan Davis",
         "56",
         "8",
         "15",
         "14372.4"
        ],
        [
         "1",
         "Kelly Reed",
         "46",
         "7",
         "10",
         "12641.59"
        ],
        [
         "2",
         "Chelsea Moore",
         "32",
         "11",
         "18",
         "13918.89"
        ],
        [
         "3",
         "Paige Goodwin",
         "25",
         "33",
         "15",
         "16396.54"
        ],
        [
         "4",
         "Kelly Rosario",
         "38",
         "32",
         "12",
         "15350.48"
        ],
        [
         "5",
         "Kyle Haynes",
         "56",
         "22",
         "13",
         "16503.1"
        ],
        [
         "6",
         "Tara Graves",
         "36",
         "23",
         "13",
         "14188.8"
        ],
        [
         "7",
         "Christopher Ellis",
         "40",
         "36",
         "12",
         "15650.93"
        ],
        [
         "8",
         "Travis Bryan",
         "28",
         "34",
         "19",
         "14558.6"
        ],
        [
         "9",
         "Grant Smith",
         "28",
         "39",
         "12",
         "14578.31"
        ],
        [
         "10",
         "Bradley Adams",
         "41",
         "21",
         "12",
         "13402.28"
        ],
        [
         "11",
         "Miguel Martinez",
         "53",
         "26",
         "13",
         "18839.6"
        ],
        [
         "12",
         "Brandon Oliver",
         "57",
         "34",
         "16",
         "19094.76"
        ],
        [
         "13",
         "Michael Hammond",
         "41",
         "0",
         "13",
         "9422.94"
        ],
        [
         "14",
         "Jennifer Davis",
         "20",
         "34",
         "18",
         "15482.84"
        ],
        [
         "15",
         "Jessica Montgomery",
         "39",
         "36",
         "10",
         "16600.7"
        ],
        [
         "16",
         "Tyler Lewis",
         "19",
         "13",
         "17",
         "10568.64"
        ],
        [
         "17",
         "Elizabeth Kramer",
         "41",
         "2",
         "16",
         "10421.82"
        ],
        [
         "18",
         "Kristie Davis",
         "47",
         "0",
         "11",
         "9348.11"
        ],
        [
         "19",
         "Sharon Goodman",
         "55",
         "4",
         "17",
         "14217.72"
        ],
        [
         "20",
         "Autumn Stewart DDS",
         "19",
         "25",
         "10",
         "10298.57"
        ],
        [
         "21",
         "Linda Williams",
         "38",
         "13",
         "18",
         "12589.51"
        ],
        [
         "22",
         "Michael Peters",
         "50",
         "38",
         "18",
         "19167.05"
        ],
        [
         "23",
         "Jennifer Holt",
         "29",
         "26",
         "11",
         "13845.35"
        ],
        [
         "24",
         "Carrie Reed",
         "39",
         "8",
         "16",
         "11494.06"
        ],
        [
         "25",
         "Stephanie Jones",
         "42",
         "14",
         "19",
         "13872.27"
        ],
        [
         "26",
         "Chelsea Pugh",
         "44",
         "14",
         "12",
         "12039.44"
        ],
        [
         "27",
         "Barbara Patel",
         "59",
         "25",
         "16",
         "20450.35"
        ],
        [
         "28",
         "Debbie Richardson",
         "45",
         "12",
         "19",
         "12849.87"
        ],
        [
         "29",
         "Julie Harrison",
         "33",
         "31",
         "18",
         "17151.38"
        ],
        [
         "30",
         "Karen Gibson",
         "32",
         "38",
         "13",
         "16849.83"
        ],
        [
         "31",
         "Heather Davis",
         "20",
         "31",
         "10",
         "13340.91"
        ],
        [
         "32",
         "Michael Stevens",
         "54",
         "3",
         "11",
         "13154.42"
        ],
        [
         "33",
         "Douglas Ramirez",
         "24",
         "29",
         "10",
         "11519.69"
        ],
        [
         "34",
         "Ann Herrera",
         "38",
         "36",
         "14",
         "18266.39"
        ],
        [
         "35",
         "Lance Lucero",
         "26",
         "22",
         "14",
         "12189.06"
        ],
        [
         "36",
         "Laura Aguilar",
         "56",
         "38",
         "16",
         "21810.4"
        ],
        [
         "37",
         "Roy Wolf",
         "35",
         "14",
         "18",
         "12698.76"
        ],
        [
         "38",
         "Andrew Graham Jr.",
         "21",
         "28",
         "18",
         "13175.48"
        ],
        [
         "39",
         "Stacey Stevenson",
         "42",
         "35",
         "12",
         "16208.78"
        ],
        [
         "40",
         "Thomas Davis",
         "31",
         "12",
         "12",
         "10484.49"
        ],
        [
         "41",
         "Michael Morris",
         "26",
         "31",
         "12",
         "14722.31"
        ],
        [
         "42",
         "Chad Stevens",
         "43",
         "6",
         "13",
         "10642.09"
        ],
        [
         "43",
         "Russell Edwards",
         "19",
         "21",
         "17",
         "9759.4"
        ],
        [
         "44",
         "Kayla Garcia",
         "37",
         "27",
         "15",
         "14592.45"
        ],
        [
         "45",
         "Eric Snyder",
         "45",
         "1",
         "17",
         "12490.01"
        ],
        [
         "46",
         "Maria Wheeler",
         "24",
         "5",
         "10",
         "10381.29"
        ],
        [
         "47",
         "Mrs. Margaret Lyons",
         "25",
         "27",
         "17",
         "13172.58"
        ],
        [
         "48",
         "Kimberly Brown",
         "52",
         "27",
         "13",
         "15951.17"
        ],
        [
         "49",
         "Mr. Jeremy Powers",
         "31",
         "19",
         "10",
         "12106.87"
        ]
       ],
       "shape": {
        "columns": 5,
        "rows": 100
       }
      },
      "text/html": [
       "<div>\n",
       "<style scoped>\n",
       "    .dataframe tbody tr th:only-of-type {\n",
       "        vertical-align: middle;\n",
       "    }\n",
       "\n",
       "    .dataframe tbody tr th {\n",
       "        vertical-align: top;\n",
       "    }\n",
       "\n",
       "    .dataframe thead th {\n",
       "        text-align: right;\n",
       "    }\n",
       "</style>\n",
       "<table border=\"1\" class=\"dataframe\">\n",
       "  <thead>\n",
       "    <tr style=\"text-align: right;\">\n",
       "      <th></th>\n",
       "      <th>Name</th>\n",
       "      <th>Age</th>\n",
       "      <th>Experience (Years)</th>\n",
       "      <th>Education (Years)</th>\n",
       "      <th>Salary</th>\n",
       "    </tr>\n",
       "  </thead>\n",
       "  <tbody>\n",
       "    <tr>\n",
       "      <th>0</th>\n",
       "      <td>Mr. Johnathan Davis</td>\n",
       "      <td>56</td>\n",
       "      <td>8</td>\n",
       "      <td>15</td>\n",
       "      <td>14372.40</td>\n",
       "    </tr>\n",
       "    <tr>\n",
       "      <th>1</th>\n",
       "      <td>Kelly Reed</td>\n",
       "      <td>46</td>\n",
       "      <td>7</td>\n",
       "      <td>10</td>\n",
       "      <td>12641.59</td>\n",
       "    </tr>\n",
       "    <tr>\n",
       "      <th>2</th>\n",
       "      <td>Chelsea Moore</td>\n",
       "      <td>32</td>\n",
       "      <td>11</td>\n",
       "      <td>18</td>\n",
       "      <td>13918.89</td>\n",
       "    </tr>\n",
       "    <tr>\n",
       "      <th>3</th>\n",
       "      <td>Paige Goodwin</td>\n",
       "      <td>25</td>\n",
       "      <td>33</td>\n",
       "      <td>15</td>\n",
       "      <td>16396.54</td>\n",
       "    </tr>\n",
       "    <tr>\n",
       "      <th>4</th>\n",
       "      <td>Kelly Rosario</td>\n",
       "      <td>38</td>\n",
       "      <td>32</td>\n",
       "      <td>12</td>\n",
       "      <td>15350.48</td>\n",
       "    </tr>\n",
       "    <tr>\n",
       "      <th>...</th>\n",
       "      <td>...</td>\n",
       "      <td>...</td>\n",
       "      <td>...</td>\n",
       "      <td>...</td>\n",
       "      <td>...</td>\n",
       "    </tr>\n",
       "    <tr>\n",
       "      <th>95</th>\n",
       "      <td>Stacy Oneill</td>\n",
       "      <td>59</td>\n",
       "      <td>37</td>\n",
       "      <td>10</td>\n",
       "      <td>18533.58</td>\n",
       "    </tr>\n",
       "    <tr>\n",
       "      <th>96</th>\n",
       "      <td>Michelle Delgado</td>\n",
       "      <td>56</td>\n",
       "      <td>23</td>\n",
       "      <td>14</td>\n",
       "      <td>16357.04</td>\n",
       "    </tr>\n",
       "    <tr>\n",
       "      <th>97</th>\n",
       "      <td>Jacob Watkins</td>\n",
       "      <td>58</td>\n",
       "      <td>4</td>\n",
       "      <td>15</td>\n",
       "      <td>15326.47</td>\n",
       "    </tr>\n",
       "    <tr>\n",
       "      <th>98</th>\n",
       "      <td>David Stone</td>\n",
       "      <td>45</td>\n",
       "      <td>33</td>\n",
       "      <td>12</td>\n",
       "      <td>17998.65</td>\n",
       "    </tr>\n",
       "    <tr>\n",
       "      <th>99</th>\n",
       "      <td>Sara Patel</td>\n",
       "      <td>24</td>\n",
       "      <td>5</td>\n",
       "      <td>18</td>\n",
       "      <td>9321.27</td>\n",
       "    </tr>\n",
       "  </tbody>\n",
       "</table>\n",
       "<p>100 rows × 5 columns</p>\n",
       "</div>"
      ],
      "text/plain": [
       "                   Name  Age  Experience (Years)  Education (Years)    Salary\n",
       "0   Mr. Johnathan Davis   56                   8                 15  14372.40\n",
       "1            Kelly Reed   46                   7                 10  12641.59\n",
       "2         Chelsea Moore   32                  11                 18  13918.89\n",
       "3         Paige Goodwin   25                  33                 15  16396.54\n",
       "4         Kelly Rosario   38                  32                 12  15350.48\n",
       "..                  ...  ...                 ...                ...       ...\n",
       "95         Stacy Oneill   59                  37                 10  18533.58\n",
       "96     Michelle Delgado   56                  23                 14  16357.04\n",
       "97        Jacob Watkins   58                   4                 15  15326.47\n",
       "98          David Stone   45                  33                 12  17998.65\n",
       "99           Sara Patel   24                   5                 18   9321.27\n",
       "\n",
       "[100 rows x 5 columns]"
      ]
     },
     "execution_count": 8,
     "metadata": {},
     "output_type": "execute_result"
    }
   ],
   "source": [
    "database"
   ]
  },
  {
   "cell_type": "code",
   "execution_count": 9,
   "id": "93ab65a4",
   "metadata": {},
   "outputs": [
    {
     "data": {
      "application/vnd.microsoft.datawrangler.viewer.v0+json": {
       "columns": [
        {
         "name": "index",
         "rawType": "object",
         "type": "string"
        },
        {
         "name": "0",
         "rawType": "int64",
         "type": "integer"
        }
       ],
       "ref": "54a05157-f31d-44ca-8819-1cfec8a8be6c",
       "rows": [
        [
         "Name",
         "0"
        ],
        [
         "Age",
         "0"
        ],
        [
         "Experience (Years)",
         "0"
        ],
        [
         "Education (Years)",
         "0"
        ],
        [
         "Salary",
         "0"
        ]
       ],
       "shape": {
        "columns": 1,
        "rows": 5
       }
      },
      "text/plain": [
       "Name                  0\n",
       "Age                   0\n",
       "Experience (Years)    0\n",
       "Education (Years)     0\n",
       "Salary                0\n",
       "dtype: int64"
      ]
     },
     "execution_count": 9,
     "metadata": {},
     "output_type": "execute_result"
    }
   ],
   "source": [
    "database.isnull().sum()"
   ]
  },
  {
   "cell_type": "code",
   "execution_count": 10,
   "id": "e9b5f577",
   "metadata": {},
   "outputs": [
    {
     "data": {
      "text/plain": [
       "(100, 5)"
      ]
     },
     "execution_count": 10,
     "metadata": {},
     "output_type": "execute_result"
    }
   ],
   "source": [
    "database.shape"
   ]
  },
  {
   "cell_type": "code",
   "execution_count": 11,
   "id": "b0cb92a2",
   "metadata": {},
   "outputs": [
    {
     "name": "stdout",
     "output_type": "stream",
     "text": [
      "<class 'pandas.core.frame.DataFrame'>\n",
      "RangeIndex: 100 entries, 0 to 99\n",
      "Data columns (total 5 columns):\n",
      " #   Column              Non-Null Count  Dtype  \n",
      "---  ------              --------------  -----  \n",
      " 0   Name                100 non-null    object \n",
      " 1   Age                 100 non-null    int64  \n",
      " 2   Experience (Years)  100 non-null    int64  \n",
      " 3   Education (Years)   100 non-null    int64  \n",
      " 4   Salary              100 non-null    float64\n",
      "dtypes: float64(1), int64(3), object(1)\n",
      "memory usage: 4.0+ KB\n"
     ]
    }
   ],
   "source": [
    "database.info()"
   ]
  },
  {
   "cell_type": "code",
   "execution_count": 12,
   "id": "c7f494dc",
   "metadata": {},
   "outputs": [
    {
     "data": {
      "application/vnd.microsoft.datawrangler.viewer.v0+json": {
       "columns": [
        {
         "name": "index",
         "rawType": "object",
         "type": "string"
        },
        {
         "name": "Age",
         "rawType": "float64",
         "type": "float"
        },
        {
         "name": "Experience (Years)",
         "rawType": "float64",
         "type": "float"
        },
        {
         "name": "Education (Years)",
         "rawType": "float64",
         "type": "float"
        },
        {
         "name": "Salary",
         "rawType": "float64",
         "type": "float"
        }
       ],
       "ref": "0c01c97a-fd45-4aa6-b312-296b5069330b",
       "rows": [
        [
         "count",
         "100.0",
         "100.0",
         "100.0",
         "100.0"
        ],
        [
         "mean",
         "37.91",
         "20.41",
         "13.86",
         "14125.6547"
        ],
        [
         "std",
         "12.219453772777674",
         "12.60518972807661",
         "2.7744141250674415",
         "3084.5053461456214"
        ],
        [
         "min",
         "18.0",
         "0.0",
         "10.0",
         "6700.62"
        ],
        [
         "25%",
         "26.75",
         "8.0",
         "12.0",
         "12018.86"
        ],
        [
         "50%",
         "38.0",
         "23.0",
         "13.0",
         "13895.58"
        ],
        [
         "75%",
         "46.25",
         "31.0",
         "16.0",
         "16366.915"
        ],
        [
         "max",
         "59.0",
         "39.0",
         "19.0",
         "21810.4"
        ]
       ],
       "shape": {
        "columns": 4,
        "rows": 8
       }
      },
      "text/html": [
       "<div>\n",
       "<style scoped>\n",
       "    .dataframe tbody tr th:only-of-type {\n",
       "        vertical-align: middle;\n",
       "    }\n",
       "\n",
       "    .dataframe tbody tr th {\n",
       "        vertical-align: top;\n",
       "    }\n",
       "\n",
       "    .dataframe thead th {\n",
       "        text-align: right;\n",
       "    }\n",
       "</style>\n",
       "<table border=\"1\" class=\"dataframe\">\n",
       "  <thead>\n",
       "    <tr style=\"text-align: right;\">\n",
       "      <th></th>\n",
       "      <th>Age</th>\n",
       "      <th>Experience (Years)</th>\n",
       "      <th>Education (Years)</th>\n",
       "      <th>Salary</th>\n",
       "    </tr>\n",
       "  </thead>\n",
       "  <tbody>\n",
       "    <tr>\n",
       "      <th>count</th>\n",
       "      <td>100.000000</td>\n",
       "      <td>100.00000</td>\n",
       "      <td>100.000000</td>\n",
       "      <td>100.000000</td>\n",
       "    </tr>\n",
       "    <tr>\n",
       "      <th>mean</th>\n",
       "      <td>37.910000</td>\n",
       "      <td>20.41000</td>\n",
       "      <td>13.860000</td>\n",
       "      <td>14125.654700</td>\n",
       "    </tr>\n",
       "    <tr>\n",
       "      <th>std</th>\n",
       "      <td>12.219454</td>\n",
       "      <td>12.60519</td>\n",
       "      <td>2.774414</td>\n",
       "      <td>3084.505346</td>\n",
       "    </tr>\n",
       "    <tr>\n",
       "      <th>min</th>\n",
       "      <td>18.000000</td>\n",
       "      <td>0.00000</td>\n",
       "      <td>10.000000</td>\n",
       "      <td>6700.620000</td>\n",
       "    </tr>\n",
       "    <tr>\n",
       "      <th>25%</th>\n",
       "      <td>26.750000</td>\n",
       "      <td>8.00000</td>\n",
       "      <td>12.000000</td>\n",
       "      <td>12018.860000</td>\n",
       "    </tr>\n",
       "    <tr>\n",
       "      <th>50%</th>\n",
       "      <td>38.000000</td>\n",
       "      <td>23.00000</td>\n",
       "      <td>13.000000</td>\n",
       "      <td>13895.580000</td>\n",
       "    </tr>\n",
       "    <tr>\n",
       "      <th>75%</th>\n",
       "      <td>46.250000</td>\n",
       "      <td>31.00000</td>\n",
       "      <td>16.000000</td>\n",
       "      <td>16366.915000</td>\n",
       "    </tr>\n",
       "    <tr>\n",
       "      <th>max</th>\n",
       "      <td>59.000000</td>\n",
       "      <td>39.00000</td>\n",
       "      <td>19.000000</td>\n",
       "      <td>21810.400000</td>\n",
       "    </tr>\n",
       "  </tbody>\n",
       "</table>\n",
       "</div>"
      ],
      "text/plain": [
       "              Age  Experience (Years)  Education (Years)        Salary\n",
       "count  100.000000           100.00000         100.000000    100.000000\n",
       "mean    37.910000            20.41000          13.860000  14125.654700\n",
       "std     12.219454            12.60519           2.774414   3084.505346\n",
       "min     18.000000             0.00000          10.000000   6700.620000\n",
       "25%     26.750000             8.00000          12.000000  12018.860000\n",
       "50%     38.000000            23.00000          13.000000  13895.580000\n",
       "75%     46.250000            31.00000          16.000000  16366.915000\n",
       "max     59.000000            39.00000          19.000000  21810.400000"
      ]
     },
     "execution_count": 12,
     "metadata": {},
     "output_type": "execute_result"
    }
   ],
   "source": [
    "database.describe()"
   ]
  },
  {
   "cell_type": "code",
   "execution_count": 13,
   "id": "e876533e",
   "metadata": {},
   "outputs": [
    {
     "data": {
      "text/plain": [
       "np.int64(0)"
      ]
     },
     "execution_count": 13,
     "metadata": {},
     "output_type": "execute_result"
    }
   ],
   "source": [
    "# data : int =database[\"Name\"].duplicated().sum()\n",
    "data : int =database.duplicated().sum()\n",
    "data"
   ]
  },
  {
   "cell_type": "code",
   "execution_count": 14,
   "id": "eb83e20b",
   "metadata": {},
   "outputs": [],
   "source": [
    "database.drop_duplicates(inplace=True)"
   ]
  },
  {
   "cell_type": "code",
   "execution_count": 15,
   "id": "96bba33e",
   "metadata": {},
   "outputs": [],
   "source": [
    "database.dropna(inplace=True)"
   ]
  },
  {
   "cell_type": "code",
   "execution_count": 16,
   "id": "8336cf2d",
   "metadata": {},
   "outputs": [
    {
     "data": {
      "application/vnd.microsoft.datawrangler.viewer.v0+json": {
       "columns": [
        {
         "name": "index",
         "rawType": "int64",
         "type": "integer"
        },
        {
         "name": "Name",
         "rawType": "object",
         "type": "string"
        },
        {
         "name": "Age",
         "rawType": "int64",
         "type": "integer"
        },
        {
         "name": "Experience (Years)",
         "rawType": "int64",
         "type": "integer"
        },
        {
         "name": "Education (Years)",
         "rawType": "int64",
         "type": "integer"
        },
        {
         "name": "Salary",
         "rawType": "float64",
         "type": "float"
        }
       ],
       "ref": "9c658cbf-8d78-4325-893e-ef50df9d1ca4",
       "rows": [
        [
         "0",
         "Mr. Johnathan Davis",
         "56",
         "8",
         "15",
         "14372.4"
        ],
        [
         "1",
         "Kelly Reed",
         "46",
         "7",
         "10",
         "12641.59"
        ],
        [
         "2",
         "Chelsea Moore",
         "32",
         "11",
         "18",
         "13918.89"
        ],
        [
         "3",
         "Paige Goodwin",
         "25",
         "33",
         "15",
         "16396.54"
        ],
        [
         "4",
         "Kelly Rosario",
         "38",
         "32",
         "12",
         "15350.48"
        ],
        [
         "5",
         "Kyle Haynes",
         "56",
         "22",
         "13",
         "16503.1"
        ],
        [
         "6",
         "Tara Graves",
         "36",
         "23",
         "13",
         "14188.8"
        ],
        [
         "7",
         "Christopher Ellis",
         "40",
         "36",
         "12",
         "15650.93"
        ],
        [
         "8",
         "Travis Bryan",
         "28",
         "34",
         "19",
         "14558.6"
        ],
        [
         "9",
         "Grant Smith",
         "28",
         "39",
         "12",
         "14578.31"
        ],
        [
         "10",
         "Bradley Adams",
         "41",
         "21",
         "12",
         "13402.28"
        ],
        [
         "11",
         "Miguel Martinez",
         "53",
         "26",
         "13",
         "18839.6"
        ],
        [
         "12",
         "Brandon Oliver",
         "57",
         "34",
         "16",
         "19094.76"
        ],
        [
         "13",
         "Michael Hammond",
         "41",
         "0",
         "13",
         "9422.94"
        ],
        [
         "14",
         "Jennifer Davis",
         "20",
         "34",
         "18",
         "15482.84"
        ],
        [
         "15",
         "Jessica Montgomery",
         "39",
         "36",
         "10",
         "16600.7"
        ],
        [
         "16",
         "Tyler Lewis",
         "19",
         "13",
         "17",
         "10568.64"
        ],
        [
         "17",
         "Elizabeth Kramer",
         "41",
         "2",
         "16",
         "10421.82"
        ],
        [
         "18",
         "Kristie Davis",
         "47",
         "0",
         "11",
         "9348.11"
        ],
        [
         "19",
         "Sharon Goodman",
         "55",
         "4",
         "17",
         "14217.72"
        ],
        [
         "20",
         "Autumn Stewart DDS",
         "19",
         "25",
         "10",
         "10298.57"
        ],
        [
         "21",
         "Linda Williams",
         "38",
         "13",
         "18",
         "12589.51"
        ],
        [
         "22",
         "Michael Peters",
         "50",
         "38",
         "18",
         "19167.05"
        ],
        [
         "23",
         "Jennifer Holt",
         "29",
         "26",
         "11",
         "13845.35"
        ],
        [
         "24",
         "Carrie Reed",
         "39",
         "8",
         "16",
         "11494.06"
        ],
        [
         "25",
         "Stephanie Jones",
         "42",
         "14",
         "19",
         "13872.27"
        ],
        [
         "26",
         "Chelsea Pugh",
         "44",
         "14",
         "12",
         "12039.44"
        ],
        [
         "27",
         "Barbara Patel",
         "59",
         "25",
         "16",
         "20450.35"
        ],
        [
         "28",
         "Debbie Richardson",
         "45",
         "12",
         "19",
         "12849.87"
        ],
        [
         "29",
         "Julie Harrison",
         "33",
         "31",
         "18",
         "17151.38"
        ],
        [
         "30",
         "Karen Gibson",
         "32",
         "38",
         "13",
         "16849.83"
        ],
        [
         "31",
         "Heather Davis",
         "20",
         "31",
         "10",
         "13340.91"
        ],
        [
         "32",
         "Michael Stevens",
         "54",
         "3",
         "11",
         "13154.42"
        ],
        [
         "33",
         "Douglas Ramirez",
         "24",
         "29",
         "10",
         "11519.69"
        ],
        [
         "34",
         "Ann Herrera",
         "38",
         "36",
         "14",
         "18266.39"
        ],
        [
         "35",
         "Lance Lucero",
         "26",
         "22",
         "14",
         "12189.06"
        ],
        [
         "36",
         "Laura Aguilar",
         "56",
         "38",
         "16",
         "21810.4"
        ],
        [
         "37",
         "Roy Wolf",
         "35",
         "14",
         "18",
         "12698.76"
        ],
        [
         "38",
         "Andrew Graham Jr.",
         "21",
         "28",
         "18",
         "13175.48"
        ],
        [
         "39",
         "Stacey Stevenson",
         "42",
         "35",
         "12",
         "16208.78"
        ],
        [
         "40",
         "Thomas Davis",
         "31",
         "12",
         "12",
         "10484.49"
        ],
        [
         "41",
         "Michael Morris",
         "26",
         "31",
         "12",
         "14722.31"
        ],
        [
         "42",
         "Chad Stevens",
         "43",
         "6",
         "13",
         "10642.09"
        ],
        [
         "43",
         "Russell Edwards",
         "19",
         "21",
         "17",
         "9759.4"
        ],
        [
         "44",
         "Kayla Garcia",
         "37",
         "27",
         "15",
         "14592.45"
        ],
        [
         "45",
         "Eric Snyder",
         "45",
         "1",
         "17",
         "12490.01"
        ],
        [
         "46",
         "Maria Wheeler",
         "24",
         "5",
         "10",
         "10381.29"
        ],
        [
         "47",
         "Mrs. Margaret Lyons",
         "25",
         "27",
         "17",
         "13172.58"
        ],
        [
         "48",
         "Kimberly Brown",
         "52",
         "27",
         "13",
         "15951.17"
        ],
        [
         "49",
         "Mr. Jeremy Powers",
         "31",
         "19",
         "10",
         "12106.87"
        ]
       ],
       "shape": {
        "columns": 5,
        "rows": 100
       }
      },
      "text/html": [
       "<div>\n",
       "<style scoped>\n",
       "    .dataframe tbody tr th:only-of-type {\n",
       "        vertical-align: middle;\n",
       "    }\n",
       "\n",
       "    .dataframe tbody tr th {\n",
       "        vertical-align: top;\n",
       "    }\n",
       "\n",
       "    .dataframe thead th {\n",
       "        text-align: right;\n",
       "    }\n",
       "</style>\n",
       "<table border=\"1\" class=\"dataframe\">\n",
       "  <thead>\n",
       "    <tr style=\"text-align: right;\">\n",
       "      <th></th>\n",
       "      <th>Name</th>\n",
       "      <th>Age</th>\n",
       "      <th>Experience (Years)</th>\n",
       "      <th>Education (Years)</th>\n",
       "      <th>Salary</th>\n",
       "    </tr>\n",
       "  </thead>\n",
       "  <tbody>\n",
       "    <tr>\n",
       "      <th>0</th>\n",
       "      <td>Mr. Johnathan Davis</td>\n",
       "      <td>56</td>\n",
       "      <td>8</td>\n",
       "      <td>15</td>\n",
       "      <td>14372.40</td>\n",
       "    </tr>\n",
       "    <tr>\n",
       "      <th>1</th>\n",
       "      <td>Kelly Reed</td>\n",
       "      <td>46</td>\n",
       "      <td>7</td>\n",
       "      <td>10</td>\n",
       "      <td>12641.59</td>\n",
       "    </tr>\n",
       "    <tr>\n",
       "      <th>2</th>\n",
       "      <td>Chelsea Moore</td>\n",
       "      <td>32</td>\n",
       "      <td>11</td>\n",
       "      <td>18</td>\n",
       "      <td>13918.89</td>\n",
       "    </tr>\n",
       "    <tr>\n",
       "      <th>3</th>\n",
       "      <td>Paige Goodwin</td>\n",
       "      <td>25</td>\n",
       "      <td>33</td>\n",
       "      <td>15</td>\n",
       "      <td>16396.54</td>\n",
       "    </tr>\n",
       "    <tr>\n",
       "      <th>4</th>\n",
       "      <td>Kelly Rosario</td>\n",
       "      <td>38</td>\n",
       "      <td>32</td>\n",
       "      <td>12</td>\n",
       "      <td>15350.48</td>\n",
       "    </tr>\n",
       "    <tr>\n",
       "      <th>...</th>\n",
       "      <td>...</td>\n",
       "      <td>...</td>\n",
       "      <td>...</td>\n",
       "      <td>...</td>\n",
       "      <td>...</td>\n",
       "    </tr>\n",
       "    <tr>\n",
       "      <th>95</th>\n",
       "      <td>Stacy Oneill</td>\n",
       "      <td>59</td>\n",
       "      <td>37</td>\n",
       "      <td>10</td>\n",
       "      <td>18533.58</td>\n",
       "    </tr>\n",
       "    <tr>\n",
       "      <th>96</th>\n",
       "      <td>Michelle Delgado</td>\n",
       "      <td>56</td>\n",
       "      <td>23</td>\n",
       "      <td>14</td>\n",
       "      <td>16357.04</td>\n",
       "    </tr>\n",
       "    <tr>\n",
       "      <th>97</th>\n",
       "      <td>Jacob Watkins</td>\n",
       "      <td>58</td>\n",
       "      <td>4</td>\n",
       "      <td>15</td>\n",
       "      <td>15326.47</td>\n",
       "    </tr>\n",
       "    <tr>\n",
       "      <th>98</th>\n",
       "      <td>David Stone</td>\n",
       "      <td>45</td>\n",
       "      <td>33</td>\n",
       "      <td>12</td>\n",
       "      <td>17998.65</td>\n",
       "    </tr>\n",
       "    <tr>\n",
       "      <th>99</th>\n",
       "      <td>Sara Patel</td>\n",
       "      <td>24</td>\n",
       "      <td>5</td>\n",
       "      <td>18</td>\n",
       "      <td>9321.27</td>\n",
       "    </tr>\n",
       "  </tbody>\n",
       "</table>\n",
       "<p>100 rows × 5 columns</p>\n",
       "</div>"
      ],
      "text/plain": [
       "                   Name  Age  Experience (Years)  Education (Years)    Salary\n",
       "0   Mr. Johnathan Davis   56                   8                 15  14372.40\n",
       "1            Kelly Reed   46                   7                 10  12641.59\n",
       "2         Chelsea Moore   32                  11                 18  13918.89\n",
       "3         Paige Goodwin   25                  33                 15  16396.54\n",
       "4         Kelly Rosario   38                  32                 12  15350.48\n",
       "..                  ...  ...                 ...                ...       ...\n",
       "95         Stacy Oneill   59                  37                 10  18533.58\n",
       "96     Michelle Delgado   56                  23                 14  16357.04\n",
       "97        Jacob Watkins   58                   4                 15  15326.47\n",
       "98          David Stone   45                  33                 12  17998.65\n",
       "99           Sara Patel   24                   5                 18   9321.27\n",
       "\n",
       "[100 rows x 5 columns]"
      ]
     },
     "execution_count": 16,
     "metadata": {},
     "output_type": "execute_result"
    }
   ],
   "source": [
    "database.fillna(database.mode())"
   ]
  },
  {
   "cell_type": "code",
   "execution_count": 17,
   "id": "7e6dd018",
   "metadata": {},
   "outputs": [],
   "source": [
    "database[\"Salary\"] = database[\"Salary\"].fillna(database[\"Salary\"].mean())"
   ]
  },
  {
   "cell_type": "code",
   "execution_count": 18,
   "id": "bbb3e592",
   "metadata": {},
   "outputs": [],
   "source": [
    "database[\"Name\"] = database[\"Name\"].fillna(database[\"Name\"].mode()[0])"
   ]
  },
  {
   "cell_type": "code",
   "execution_count": 19,
   "id": "fe639ff2",
   "metadata": {},
   "outputs": [],
   "source": [
    "database.loc[(database[\"Salary\"] > 10000, \"Tax Salary %\")] = \"20%\"\n",
    "database.loc[(database[\"Salary\"] < 10000, \"Tax Salary %\")] = \"0%\""
   ]
  },
  {
   "cell_type": "code",
   "execution_count": 20,
   "id": "2fb308a4",
   "metadata": {},
   "outputs": [
    {
     "data": {
      "application/vnd.microsoft.datawrangler.viewer.v0+json": {
       "columns": [
        {
         "name": "index",
         "rawType": "int64",
         "type": "integer"
        },
        {
         "name": "Name",
         "rawType": "object",
         "type": "string"
        },
        {
         "name": "Age",
         "rawType": "int64",
         "type": "integer"
        },
        {
         "name": "Experience (Years)",
         "rawType": "int64",
         "type": "integer"
        },
        {
         "name": "Education (Years)",
         "rawType": "int64",
         "type": "integer"
        },
        {
         "name": "Salary",
         "rawType": "float64",
         "type": "float"
        },
        {
         "name": "Tax Salary %",
         "rawType": "object",
         "type": "string"
        }
       ],
       "ref": "8ed81a07-9d9d-40a5-b0ba-05e1e7e9959f",
       "rows": [
        [
         "0",
         "Mr. Johnathan Davis",
         "56",
         "8",
         "15",
         "14372.4",
         "20%"
        ],
        [
         "1",
         "Kelly Reed",
         "46",
         "7",
         "10",
         "12641.59",
         "20%"
        ],
        [
         "2",
         "Chelsea Moore",
         "32",
         "11",
         "18",
         "13918.89",
         "20%"
        ],
        [
         "3",
         "Paige Goodwin",
         "25",
         "33",
         "15",
         "16396.54",
         "20%"
        ],
        [
         "4",
         "Kelly Rosario",
         "38",
         "32",
         "12",
         "15350.48",
         "20%"
        ],
        [
         "5",
         "Kyle Haynes",
         "56",
         "22",
         "13",
         "16503.1",
         "20%"
        ],
        [
         "6",
         "Tara Graves",
         "36",
         "23",
         "13",
         "14188.8",
         "20%"
        ],
        [
         "7",
         "Christopher Ellis",
         "40",
         "36",
         "12",
         "15650.93",
         "20%"
        ],
        [
         "8",
         "Travis Bryan",
         "28",
         "34",
         "19",
         "14558.6",
         "20%"
        ],
        [
         "9",
         "Grant Smith",
         "28",
         "39",
         "12",
         "14578.31",
         "20%"
        ],
        [
         "10",
         "Bradley Adams",
         "41",
         "21",
         "12",
         "13402.28",
         "20%"
        ],
        [
         "11",
         "Miguel Martinez",
         "53",
         "26",
         "13",
         "18839.6",
         "20%"
        ],
        [
         "12",
         "Brandon Oliver",
         "57",
         "34",
         "16",
         "19094.76",
         "20%"
        ],
        [
         "13",
         "Michael Hammond",
         "41",
         "0",
         "13",
         "9422.94",
         "0%"
        ],
        [
         "14",
         "Jennifer Davis",
         "20",
         "34",
         "18",
         "15482.84",
         "20%"
        ],
        [
         "15",
         "Jessica Montgomery",
         "39",
         "36",
         "10",
         "16600.7",
         "20%"
        ],
        [
         "16",
         "Tyler Lewis",
         "19",
         "13",
         "17",
         "10568.64",
         "20%"
        ],
        [
         "17",
         "Elizabeth Kramer",
         "41",
         "2",
         "16",
         "10421.82",
         "20%"
        ],
        [
         "18",
         "Kristie Davis",
         "47",
         "0",
         "11",
         "9348.11",
         "0%"
        ],
        [
         "19",
         "Sharon Goodman",
         "55",
         "4",
         "17",
         "14217.72",
         "20%"
        ],
        [
         "20",
         "Autumn Stewart DDS",
         "19",
         "25",
         "10",
         "10298.57",
         "20%"
        ],
        [
         "21",
         "Linda Williams",
         "38",
         "13",
         "18",
         "12589.51",
         "20%"
        ],
        [
         "22",
         "Michael Peters",
         "50",
         "38",
         "18",
         "19167.05",
         "20%"
        ],
        [
         "23",
         "Jennifer Holt",
         "29",
         "26",
         "11",
         "13845.35",
         "20%"
        ],
        [
         "24",
         "Carrie Reed",
         "39",
         "8",
         "16",
         "11494.06",
         "20%"
        ],
        [
         "25",
         "Stephanie Jones",
         "42",
         "14",
         "19",
         "13872.27",
         "20%"
        ],
        [
         "26",
         "Chelsea Pugh",
         "44",
         "14",
         "12",
         "12039.44",
         "20%"
        ],
        [
         "27",
         "Barbara Patel",
         "59",
         "25",
         "16",
         "20450.35",
         "20%"
        ],
        [
         "28",
         "Debbie Richardson",
         "45",
         "12",
         "19",
         "12849.87",
         "20%"
        ],
        [
         "29",
         "Julie Harrison",
         "33",
         "31",
         "18",
         "17151.38",
         "20%"
        ],
        [
         "30",
         "Karen Gibson",
         "32",
         "38",
         "13",
         "16849.83",
         "20%"
        ],
        [
         "31",
         "Heather Davis",
         "20",
         "31",
         "10",
         "13340.91",
         "20%"
        ],
        [
         "32",
         "Michael Stevens",
         "54",
         "3",
         "11",
         "13154.42",
         "20%"
        ],
        [
         "33",
         "Douglas Ramirez",
         "24",
         "29",
         "10",
         "11519.69",
         "20%"
        ],
        [
         "34",
         "Ann Herrera",
         "38",
         "36",
         "14",
         "18266.39",
         "20%"
        ],
        [
         "35",
         "Lance Lucero",
         "26",
         "22",
         "14",
         "12189.06",
         "20%"
        ],
        [
         "36",
         "Laura Aguilar",
         "56",
         "38",
         "16",
         "21810.4",
         "20%"
        ],
        [
         "37",
         "Roy Wolf",
         "35",
         "14",
         "18",
         "12698.76",
         "20%"
        ],
        [
         "38",
         "Andrew Graham Jr.",
         "21",
         "28",
         "18",
         "13175.48",
         "20%"
        ],
        [
         "39",
         "Stacey Stevenson",
         "42",
         "35",
         "12",
         "16208.78",
         "20%"
        ],
        [
         "40",
         "Thomas Davis",
         "31",
         "12",
         "12",
         "10484.49",
         "20%"
        ],
        [
         "41",
         "Michael Morris",
         "26",
         "31",
         "12",
         "14722.31",
         "20%"
        ],
        [
         "42",
         "Chad Stevens",
         "43",
         "6",
         "13",
         "10642.09",
         "20%"
        ],
        [
         "43",
         "Russell Edwards",
         "19",
         "21",
         "17",
         "9759.4",
         "0%"
        ],
        [
         "44",
         "Kayla Garcia",
         "37",
         "27",
         "15",
         "14592.45",
         "20%"
        ],
        [
         "45",
         "Eric Snyder",
         "45",
         "1",
         "17",
         "12490.01",
         "20%"
        ],
        [
         "46",
         "Maria Wheeler",
         "24",
         "5",
         "10",
         "10381.29",
         "20%"
        ],
        [
         "47",
         "Mrs. Margaret Lyons",
         "25",
         "27",
         "17",
         "13172.58",
         "20%"
        ],
        [
         "48",
         "Kimberly Brown",
         "52",
         "27",
         "13",
         "15951.17",
         "20%"
        ],
        [
         "49",
         "Mr. Jeremy Powers",
         "31",
         "19",
         "10",
         "12106.87",
         "20%"
        ]
       ],
       "shape": {
        "columns": 6,
        "rows": 100
       }
      },
      "text/html": [
       "<div>\n",
       "<style scoped>\n",
       "    .dataframe tbody tr th:only-of-type {\n",
       "        vertical-align: middle;\n",
       "    }\n",
       "\n",
       "    .dataframe tbody tr th {\n",
       "        vertical-align: top;\n",
       "    }\n",
       "\n",
       "    .dataframe thead th {\n",
       "        text-align: right;\n",
       "    }\n",
       "</style>\n",
       "<table border=\"1\" class=\"dataframe\">\n",
       "  <thead>\n",
       "    <tr style=\"text-align: right;\">\n",
       "      <th></th>\n",
       "      <th>Name</th>\n",
       "      <th>Age</th>\n",
       "      <th>Experience (Years)</th>\n",
       "      <th>Education (Years)</th>\n",
       "      <th>Salary</th>\n",
       "      <th>Tax Salary %</th>\n",
       "    </tr>\n",
       "  </thead>\n",
       "  <tbody>\n",
       "    <tr>\n",
       "      <th>0</th>\n",
       "      <td>Mr. Johnathan Davis</td>\n",
       "      <td>56</td>\n",
       "      <td>8</td>\n",
       "      <td>15</td>\n",
       "      <td>14372.40</td>\n",
       "      <td>20%</td>\n",
       "    </tr>\n",
       "    <tr>\n",
       "      <th>1</th>\n",
       "      <td>Kelly Reed</td>\n",
       "      <td>46</td>\n",
       "      <td>7</td>\n",
       "      <td>10</td>\n",
       "      <td>12641.59</td>\n",
       "      <td>20%</td>\n",
       "    </tr>\n",
       "    <tr>\n",
       "      <th>2</th>\n",
       "      <td>Chelsea Moore</td>\n",
       "      <td>32</td>\n",
       "      <td>11</td>\n",
       "      <td>18</td>\n",
       "      <td>13918.89</td>\n",
       "      <td>20%</td>\n",
       "    </tr>\n",
       "    <tr>\n",
       "      <th>3</th>\n",
       "      <td>Paige Goodwin</td>\n",
       "      <td>25</td>\n",
       "      <td>33</td>\n",
       "      <td>15</td>\n",
       "      <td>16396.54</td>\n",
       "      <td>20%</td>\n",
       "    </tr>\n",
       "    <tr>\n",
       "      <th>4</th>\n",
       "      <td>Kelly Rosario</td>\n",
       "      <td>38</td>\n",
       "      <td>32</td>\n",
       "      <td>12</td>\n",
       "      <td>15350.48</td>\n",
       "      <td>20%</td>\n",
       "    </tr>\n",
       "    <tr>\n",
       "      <th>...</th>\n",
       "      <td>...</td>\n",
       "      <td>...</td>\n",
       "      <td>...</td>\n",
       "      <td>...</td>\n",
       "      <td>...</td>\n",
       "      <td>...</td>\n",
       "    </tr>\n",
       "    <tr>\n",
       "      <th>95</th>\n",
       "      <td>Stacy Oneill</td>\n",
       "      <td>59</td>\n",
       "      <td>37</td>\n",
       "      <td>10</td>\n",
       "      <td>18533.58</td>\n",
       "      <td>20%</td>\n",
       "    </tr>\n",
       "    <tr>\n",
       "      <th>96</th>\n",
       "      <td>Michelle Delgado</td>\n",
       "      <td>56</td>\n",
       "      <td>23</td>\n",
       "      <td>14</td>\n",
       "      <td>16357.04</td>\n",
       "      <td>20%</td>\n",
       "    </tr>\n",
       "    <tr>\n",
       "      <th>97</th>\n",
       "      <td>Jacob Watkins</td>\n",
       "      <td>58</td>\n",
       "      <td>4</td>\n",
       "      <td>15</td>\n",
       "      <td>15326.47</td>\n",
       "      <td>20%</td>\n",
       "    </tr>\n",
       "    <tr>\n",
       "      <th>98</th>\n",
       "      <td>David Stone</td>\n",
       "      <td>45</td>\n",
       "      <td>33</td>\n",
       "      <td>12</td>\n",
       "      <td>17998.65</td>\n",
       "      <td>20%</td>\n",
       "    </tr>\n",
       "    <tr>\n",
       "      <th>99</th>\n",
       "      <td>Sara Patel</td>\n",
       "      <td>24</td>\n",
       "      <td>5</td>\n",
       "      <td>18</td>\n",
       "      <td>9321.27</td>\n",
       "      <td>0%</td>\n",
       "    </tr>\n",
       "  </tbody>\n",
       "</table>\n",
       "<p>100 rows × 6 columns</p>\n",
       "</div>"
      ],
      "text/plain": [
       "                   Name  Age  Experience (Years)  Education (Years)    Salary  \\\n",
       "0   Mr. Johnathan Davis   56                   8                 15  14372.40   \n",
       "1            Kelly Reed   46                   7                 10  12641.59   \n",
       "2         Chelsea Moore   32                  11                 18  13918.89   \n",
       "3         Paige Goodwin   25                  33                 15  16396.54   \n",
       "4         Kelly Rosario   38                  32                 12  15350.48   \n",
       "..                  ...  ...                 ...                ...       ...   \n",
       "95         Stacy Oneill   59                  37                 10  18533.58   \n",
       "96     Michelle Delgado   56                  23                 14  16357.04   \n",
       "97        Jacob Watkins   58                   4                 15  15326.47   \n",
       "98          David Stone   45                  33                 12  17998.65   \n",
       "99           Sara Patel   24                   5                 18   9321.27   \n",
       "\n",
       "   Tax Salary %  \n",
       "0           20%  \n",
       "1           20%  \n",
       "2           20%  \n",
       "3           20%  \n",
       "4           20%  \n",
       "..          ...  \n",
       "95          20%  \n",
       "96          20%  \n",
       "97          20%  \n",
       "98          20%  \n",
       "99           0%  \n",
       "\n",
       "[100 rows x 6 columns]"
      ]
     },
     "execution_count": 20,
     "metadata": {},
     "output_type": "execute_result"
    }
   ],
   "source": [
    "database"
   ]
  },
  {
   "cell_type": "markdown",
   "id": "076d3915",
   "metadata": {},
   "source": [
    "<h1>Group By pandas</h1>"
   ]
  },
  {
   "cell_type": "code",
   "execution_count": 23,
   "id": "f6e9da5f",
   "metadata": {},
   "outputs": [],
   "source": [
    "data = database.groupby(\"Experience (Years)\").agg({\"Salary\": \"mean\"})"
   ]
  },
  {
   "cell_type": "code",
   "execution_count": 24,
   "id": "d9b75b84",
   "metadata": {},
   "outputs": [
    {
     "data": {
      "application/vnd.microsoft.datawrangler.viewer.v0+json": {
       "columns": [
        {
         "name": "Experience (Years)",
         "rawType": "int64",
         "type": "integer"
        },
        {
         "name": "Salary",
         "rawType": "float64",
         "type": "float"
        }
       ],
       "ref": "1f5602ff-fad9-494e-b266-6e37f16e9292",
       "rows": [
        [
         "0",
         "9802.06"
        ],
        [
         "1",
         "11286.942"
        ],
        [
         "2",
         "10596.973333333333"
        ],
        [
         "3",
         "12364.735"
        ],
        [
         "4",
         "14772.095"
        ],
        [
         "5",
         "9960.765"
        ],
        [
         "6",
         "10642.09"
        ],
        [
         "7",
         "11021.17"
        ],
        [
         "8",
         "13009.856666666667"
        ],
        [
         "10",
         "14904.91"
        ],
        [
         "11",
         "13056.48"
        ],
        [
         "12",
         "12251.453333333333"
        ],
        [
         "13",
         "11579.075"
        ],
        [
         "14",
         "13311.875"
        ],
        [
         "16",
         "13387.93"
        ],
        [
         "18",
         "11031.49"
        ],
        [
         "19",
         "12106.87"
        ],
        [
         "21",
         "11580.84"
        ],
        [
         "22",
         "14779.683333333332"
        ],
        [
         "23",
         "15066.23"
        ],
        [
         "24",
         "12876.85"
        ],
        [
         "25",
         "14135.063333333334"
        ],
        [
         "26",
         "15772.217499999999"
        ],
        [
         "27",
         "15607.572"
        ],
        [
         "28",
         "13175.48"
        ],
        [
         "29",
         "13651.775000000001"
        ],
        [
         "31",
         "16624.96375"
        ],
        [
         "32",
         "14995.0175"
        ],
        [
         "33",
         "17197.595"
        ],
        [
         "34",
         "16378.733333333332"
        ],
        [
         "35",
         "16208.78"
        ],
        [
         "36",
         "16556.71"
        ],
        [
         "37",
         "18533.58"
        ],
        [
         "38",
         "18413.053333333333"
        ],
        [
         "39",
         "14578.31"
        ]
       ],
       "shape": {
        "columns": 1,
        "rows": 35
       }
      },
      "text/html": [
       "<div>\n",
       "<style scoped>\n",
       "    .dataframe tbody tr th:only-of-type {\n",
       "        vertical-align: middle;\n",
       "    }\n",
       "\n",
       "    .dataframe tbody tr th {\n",
       "        vertical-align: top;\n",
       "    }\n",
       "\n",
       "    .dataframe thead th {\n",
       "        text-align: right;\n",
       "    }\n",
       "</style>\n",
       "<table border=\"1\" class=\"dataframe\">\n",
       "  <thead>\n",
       "    <tr style=\"text-align: right;\">\n",
       "      <th></th>\n",
       "      <th>Salary</th>\n",
       "    </tr>\n",
       "    <tr>\n",
       "      <th>Experience (Years)</th>\n",
       "      <th></th>\n",
       "    </tr>\n",
       "  </thead>\n",
       "  <tbody>\n",
       "    <tr>\n",
       "      <th>0</th>\n",
       "      <td>9802.060000</td>\n",
       "    </tr>\n",
       "    <tr>\n",
       "      <th>1</th>\n",
       "      <td>11286.942000</td>\n",
       "    </tr>\n",
       "    <tr>\n",
       "      <th>2</th>\n",
       "      <td>10596.973333</td>\n",
       "    </tr>\n",
       "    <tr>\n",
       "      <th>3</th>\n",
       "      <td>12364.735000</td>\n",
       "    </tr>\n",
       "    <tr>\n",
       "      <th>4</th>\n",
       "      <td>14772.095000</td>\n",
       "    </tr>\n",
       "    <tr>\n",
       "      <th>5</th>\n",
       "      <td>9960.765000</td>\n",
       "    </tr>\n",
       "    <tr>\n",
       "      <th>6</th>\n",
       "      <td>10642.090000</td>\n",
       "    </tr>\n",
       "    <tr>\n",
       "      <th>7</th>\n",
       "      <td>11021.170000</td>\n",
       "    </tr>\n",
       "    <tr>\n",
       "      <th>8</th>\n",
       "      <td>13009.856667</td>\n",
       "    </tr>\n",
       "    <tr>\n",
       "      <th>10</th>\n",
       "      <td>14904.910000</td>\n",
       "    </tr>\n",
       "    <tr>\n",
       "      <th>11</th>\n",
       "      <td>13056.480000</td>\n",
       "    </tr>\n",
       "    <tr>\n",
       "      <th>12</th>\n",
       "      <td>12251.453333</td>\n",
       "    </tr>\n",
       "    <tr>\n",
       "      <th>13</th>\n",
       "      <td>11579.075000</td>\n",
       "    </tr>\n",
       "    <tr>\n",
       "      <th>14</th>\n",
       "      <td>13311.875000</td>\n",
       "    </tr>\n",
       "    <tr>\n",
       "      <th>16</th>\n",
       "      <td>13387.930000</td>\n",
       "    </tr>\n",
       "    <tr>\n",
       "      <th>18</th>\n",
       "      <td>11031.490000</td>\n",
       "    </tr>\n",
       "    <tr>\n",
       "      <th>19</th>\n",
       "      <td>12106.870000</td>\n",
       "    </tr>\n",
       "    <tr>\n",
       "      <th>21</th>\n",
       "      <td>11580.840000</td>\n",
       "    </tr>\n",
       "    <tr>\n",
       "      <th>22</th>\n",
       "      <td>14779.683333</td>\n",
       "    </tr>\n",
       "    <tr>\n",
       "      <th>23</th>\n",
       "      <td>15066.230000</td>\n",
       "    </tr>\n",
       "    <tr>\n",
       "      <th>24</th>\n",
       "      <td>12876.850000</td>\n",
       "    </tr>\n",
       "    <tr>\n",
       "      <th>25</th>\n",
       "      <td>14135.063333</td>\n",
       "    </tr>\n",
       "    <tr>\n",
       "      <th>26</th>\n",
       "      <td>15772.217500</td>\n",
       "    </tr>\n",
       "    <tr>\n",
       "      <th>27</th>\n",
       "      <td>15607.572000</td>\n",
       "    </tr>\n",
       "    <tr>\n",
       "      <th>28</th>\n",
       "      <td>13175.480000</td>\n",
       "    </tr>\n",
       "    <tr>\n",
       "      <th>29</th>\n",
       "      <td>13651.775000</td>\n",
       "    </tr>\n",
       "    <tr>\n",
       "      <th>31</th>\n",
       "      <td>16624.963750</td>\n",
       "    </tr>\n",
       "    <tr>\n",
       "      <th>32</th>\n",
       "      <td>14995.017500</td>\n",
       "    </tr>\n",
       "    <tr>\n",
       "      <th>33</th>\n",
       "      <td>17197.595000</td>\n",
       "    </tr>\n",
       "    <tr>\n",
       "      <th>34</th>\n",
       "      <td>16378.733333</td>\n",
       "    </tr>\n",
       "    <tr>\n",
       "      <th>35</th>\n",
       "      <td>16208.780000</td>\n",
       "    </tr>\n",
       "    <tr>\n",
       "      <th>36</th>\n",
       "      <td>16556.710000</td>\n",
       "    </tr>\n",
       "    <tr>\n",
       "      <th>37</th>\n",
       "      <td>18533.580000</td>\n",
       "    </tr>\n",
       "    <tr>\n",
       "      <th>38</th>\n",
       "      <td>18413.053333</td>\n",
       "    </tr>\n",
       "    <tr>\n",
       "      <th>39</th>\n",
       "      <td>14578.310000</td>\n",
       "    </tr>\n",
       "  </tbody>\n",
       "</table>\n",
       "</div>"
      ],
      "text/plain": [
       "                          Salary\n",
       "Experience (Years)              \n",
       "0                    9802.060000\n",
       "1                   11286.942000\n",
       "2                   10596.973333\n",
       "3                   12364.735000\n",
       "4                   14772.095000\n",
       "5                    9960.765000\n",
       "6                   10642.090000\n",
       "7                   11021.170000\n",
       "8                   13009.856667\n",
       "10                  14904.910000\n",
       "11                  13056.480000\n",
       "12                  12251.453333\n",
       "13                  11579.075000\n",
       "14                  13311.875000\n",
       "16                  13387.930000\n",
       "18                  11031.490000\n",
       "19                  12106.870000\n",
       "21                  11580.840000\n",
       "22                  14779.683333\n",
       "23                  15066.230000\n",
       "24                  12876.850000\n",
       "25                  14135.063333\n",
       "26                  15772.217500\n",
       "27                  15607.572000\n",
       "28                  13175.480000\n",
       "29                  13651.775000\n",
       "31                  16624.963750\n",
       "32                  14995.017500\n",
       "33                  17197.595000\n",
       "34                  16378.733333\n",
       "35                  16208.780000\n",
       "36                  16556.710000\n",
       "37                  18533.580000\n",
       "38                  18413.053333\n",
       "39                  14578.310000"
      ]
     },
     "execution_count": 24,
     "metadata": {},
     "output_type": "execute_result"
    }
   ],
   "source": [
    "data"
   ]
  },
  {
   "cell_type": "markdown",
   "id": "e97a8b50",
   "metadata": {},
   "source": [
    "<h1>Merge, Join, Concatenate in pandas</h1>"
   ]
  },
  {
   "cell_type": "code",
   "execution_count": 26,
   "id": "6e160e30",
   "metadata": {},
   "outputs": [],
   "source": [
    "import pandas as pd"
   ]
  },
  {
   "cell_type": "code",
   "execution_count": null,
   "id": "c3122881",
   "metadata": {},
   "outputs": [],
   "source": [
    "data1 = {\n",
    "    \"ID\": [1, 2, 3, 4, 5, 6, 7, 8, 9, 10],\n",
    "    \"Name\": [\"Zohaib\", \"Sara\", \"Hassan\", \"Ayesha\", \"Usman\", \"Zoya\", \"Bilal\", \"Fatima\", \"Ahmed\", \"Noor\"],\n",
    "    \"Age\": [20, 28, 22, 30, 27, 24, 29, 26, 31, 23],\n",
    "    \"Salary\": [5000000, 60000, 45000, 70000, 55000, 48000, 62000, 53000, 75000, 47000]\n",
    "}\n",
    "\n",
    "# Data 2\n",
    "data2 = {\n",
    "    \"ID\": [11, 12, 13, 14, 15, 16, 17, 18, 19, 20],\n",
    "    \"Name\": [\"Hira\", \"Shahid\", \"Amina\", \"Omar\", \"Sana\", \"Imran\", \"Laila\", \"Faraz\", \"Maryam\", \"Raza\"],\n",
    "    \"Age\": [26, 32, 24, 29, 27, 31, 28, 25, 30, 33],\n",
    "    \"Salary\": [52000, 68000, 47000, 60000, 54000, 71000, 59000, 48000, 67000, 73000]\n",
    "}"
   ]
  },
  {
   "cell_type": "code",
   "execution_count": 47,
   "id": "6e578c60",
   "metadata": {},
   "outputs": [],
   "source": [
    "a = pd.DataFrame(data1)"
   ]
  },
  {
   "cell_type": "code",
   "execution_count": 48,
   "id": "02e7c180",
   "metadata": {},
   "outputs": [],
   "source": [
    "b = pd.DataFrame(data2)"
   ]
  },
  {
   "cell_type": "code",
   "execution_count": 51,
   "id": "23000653",
   "metadata": {},
   "outputs": [
    {
     "data": {
      "application/vnd.microsoft.datawrangler.viewer.v0+json": {
       "columns": [
        {
         "name": "index",
         "rawType": "int64",
         "type": "integer"
        },
        {
         "name": "ID",
         "rawType": "int64",
         "type": "integer"
        },
        {
         "name": "Name_x",
         "rawType": "object",
         "type": "string"
        },
        {
         "name": "Age_x",
         "rawType": "int64",
         "type": "integer"
        },
        {
         "name": "Salary_x",
         "rawType": "int64",
         "type": "integer"
        },
        {
         "name": "Name_y",
         "rawType": "object",
         "type": "unknown"
        },
        {
         "name": "Age_y",
         "rawType": "float64",
         "type": "float"
        },
        {
         "name": "Salary_y",
         "rawType": "float64",
         "type": "float"
        }
       ],
       "ref": "53bc535b-9072-485b-a0cf-84553b1f7f07",
       "rows": [
        [
         "0",
         "1",
         "Zohaib",
         "20",
         "5000000",
         "Hira",
         "26.0",
         "52000.0"
        ],
        [
         "1",
         "2",
         "Sara",
         "28",
         "60000",
         "Shahid",
         "32.0",
         "68000.0"
        ],
        [
         "2",
         "3",
         "Hassan",
         "22",
         "45000",
         null,
         null,
         null
        ],
        [
         "3",
         "4",
         "Ayesha",
         "30",
         "70000",
         null,
         null,
         null
        ],
        [
         "4",
         "5",
         "Usman",
         "27",
         "55000",
         null,
         null,
         null
        ],
        [
         "5",
         "6",
         "Zoya",
         "24",
         "48000",
         null,
         null,
         null
        ],
        [
         "6",
         "7",
         "Bilal",
         "29",
         "62000",
         null,
         null,
         null
        ],
        [
         "7",
         "8",
         "Fatima",
         "26",
         "53000",
         null,
         null,
         null
        ],
        [
         "8",
         "9",
         "Ahmed",
         "31",
         "75000",
         null,
         null,
         null
        ],
        [
         "9",
         "10",
         "Noor",
         "23",
         "47000",
         null,
         null,
         null
        ]
       ],
       "shape": {
        "columns": 7,
        "rows": 10
       }
      },
      "text/html": [
       "<div>\n",
       "<style scoped>\n",
       "    .dataframe tbody tr th:only-of-type {\n",
       "        vertical-align: middle;\n",
       "    }\n",
       "\n",
       "    .dataframe tbody tr th {\n",
       "        vertical-align: top;\n",
       "    }\n",
       "\n",
       "    .dataframe thead th {\n",
       "        text-align: right;\n",
       "    }\n",
       "</style>\n",
       "<table border=\"1\" class=\"dataframe\">\n",
       "  <thead>\n",
       "    <tr style=\"text-align: right;\">\n",
       "      <th></th>\n",
       "      <th>ID</th>\n",
       "      <th>Name_x</th>\n",
       "      <th>Age_x</th>\n",
       "      <th>Salary_x</th>\n",
       "      <th>Name_y</th>\n",
       "      <th>Age_y</th>\n",
       "      <th>Salary_y</th>\n",
       "    </tr>\n",
       "  </thead>\n",
       "  <tbody>\n",
       "    <tr>\n",
       "      <th>0</th>\n",
       "      <td>1</td>\n",
       "      <td>Zohaib</td>\n",
       "      <td>20</td>\n",
       "      <td>5000000</td>\n",
       "      <td>Hira</td>\n",
       "      <td>26.0</td>\n",
       "      <td>52000.0</td>\n",
       "    </tr>\n",
       "    <tr>\n",
       "      <th>1</th>\n",
       "      <td>2</td>\n",
       "      <td>Sara</td>\n",
       "      <td>28</td>\n",
       "      <td>60000</td>\n",
       "      <td>Shahid</td>\n",
       "      <td>32.0</td>\n",
       "      <td>68000.0</td>\n",
       "    </tr>\n",
       "    <tr>\n",
       "      <th>2</th>\n",
       "      <td>3</td>\n",
       "      <td>Hassan</td>\n",
       "      <td>22</td>\n",
       "      <td>45000</td>\n",
       "      <td>NaN</td>\n",
       "      <td>NaN</td>\n",
       "      <td>NaN</td>\n",
       "    </tr>\n",
       "    <tr>\n",
       "      <th>3</th>\n",
       "      <td>4</td>\n",
       "      <td>Ayesha</td>\n",
       "      <td>30</td>\n",
       "      <td>70000</td>\n",
       "      <td>NaN</td>\n",
       "      <td>NaN</td>\n",
       "      <td>NaN</td>\n",
       "    </tr>\n",
       "    <tr>\n",
       "      <th>4</th>\n",
       "      <td>5</td>\n",
       "      <td>Usman</td>\n",
       "      <td>27</td>\n",
       "      <td>55000</td>\n",
       "      <td>NaN</td>\n",
       "      <td>NaN</td>\n",
       "      <td>NaN</td>\n",
       "    </tr>\n",
       "    <tr>\n",
       "      <th>5</th>\n",
       "      <td>6</td>\n",
       "      <td>Zoya</td>\n",
       "      <td>24</td>\n",
       "      <td>48000</td>\n",
       "      <td>NaN</td>\n",
       "      <td>NaN</td>\n",
       "      <td>NaN</td>\n",
       "    </tr>\n",
       "    <tr>\n",
       "      <th>6</th>\n",
       "      <td>7</td>\n",
       "      <td>Bilal</td>\n",
       "      <td>29</td>\n",
       "      <td>62000</td>\n",
       "      <td>NaN</td>\n",
       "      <td>NaN</td>\n",
       "      <td>NaN</td>\n",
       "    </tr>\n",
       "    <tr>\n",
       "      <th>7</th>\n",
       "      <td>8</td>\n",
       "      <td>Fatima</td>\n",
       "      <td>26</td>\n",
       "      <td>53000</td>\n",
       "      <td>NaN</td>\n",
       "      <td>NaN</td>\n",
       "      <td>NaN</td>\n",
       "    </tr>\n",
       "    <tr>\n",
       "      <th>8</th>\n",
       "      <td>9</td>\n",
       "      <td>Ahmed</td>\n",
       "      <td>31</td>\n",
       "      <td>75000</td>\n",
       "      <td>NaN</td>\n",
       "      <td>NaN</td>\n",
       "      <td>NaN</td>\n",
       "    </tr>\n",
       "    <tr>\n",
       "      <th>9</th>\n",
       "      <td>10</td>\n",
       "      <td>Noor</td>\n",
       "      <td>23</td>\n",
       "      <td>47000</td>\n",
       "      <td>NaN</td>\n",
       "      <td>NaN</td>\n",
       "      <td>NaN</td>\n",
       "    </tr>\n",
       "  </tbody>\n",
       "</table>\n",
       "</div>"
      ],
      "text/plain": [
       "   ID  Name_x  Age_x  Salary_x  Name_y  Age_y  Salary_y\n",
       "0   1  Zohaib     20   5000000    Hira   26.0   52000.0\n",
       "1   2    Sara     28     60000  Shahid   32.0   68000.0\n",
       "2   3  Hassan     22     45000     NaN    NaN       NaN\n",
       "3   4  Ayesha     30     70000     NaN    NaN       NaN\n",
       "4   5   Usman     27     55000     NaN    NaN       NaN\n",
       "5   6    Zoya     24     48000     NaN    NaN       NaN\n",
       "6   7   Bilal     29     62000     NaN    NaN       NaN\n",
       "7   8  Fatima     26     53000     NaN    NaN       NaN\n",
       "8   9   Ahmed     31     75000     NaN    NaN       NaN\n",
       "9  10    Noor     23     47000     NaN    NaN       NaN"
      ]
     },
     "execution_count": 51,
     "metadata": {},
     "output_type": "execute_result"
    }
   ],
   "source": [
    "pd.merge(a, b, on=\"ID\", how=\"left\")"
   ]
  },
  {
   "cell_type": "code",
   "execution_count": 54,
   "id": "b26bebd7",
   "metadata": {},
   "outputs": [],
   "source": [
    "data1 = {\n",
    "    \"ID\": [1, 2, 3, 4, 5, 6, 7, 8, 9, 10],\n",
    "    \"Name\": [\"Zohaib\", \"Sara\", \"Hassan\", \"Ayesha\", \"Usman\", \"Zoya\", \"Bilal\", \"Fatima\", \"Ahmed\", \"Noor\"],\n",
    "    \"Age\": [20, 28, 22, 30, 27, 24, 29, 26, 31, 23],\n",
    "    \"Salary\": [5000000, 60000, 45000, 70000, 55000, 48000, 62000, 53000, 75000, 47000]\n",
    "}\n",
    "\n",
    "# Data 2\n",
    "data2 = {\n",
    "    \"ID\": [11, 12, 13, 14, 15, 16, 17, 18, 19, 20],\n",
    "    \"Name\": [\"Hira\", \"Shahid\", \"Amina\", \"Omar\", \"Sana\", \"Imran\", \"Laila\", \"Faraz\", \"Maryam\", \"Raza\"],\n",
    "    \"Age\": [26, 32, 24, 29, 27, 31, 28, 25, 30, 33],\n",
    "    \"Salary\": [52000, 68000, 47000, 60000, 54000, 71000, 59000, 48000, 67000, 73000]\n",
    "}"
   ]
  },
  {
   "cell_type": "code",
   "execution_count": 55,
   "id": "15764e27",
   "metadata": {},
   "outputs": [
    {
     "data": {
      "application/vnd.microsoft.datawrangler.viewer.v0+json": {
       "columns": [
        {
         "name": "index",
         "rawType": "int64",
         "type": "integer"
        },
        {
         "name": "ID",
         "rawType": "int64",
         "type": "integer"
        },
        {
         "name": "Name",
         "rawType": "object",
         "type": "string"
        },
        {
         "name": "Age",
         "rawType": "int64",
         "type": "integer"
        },
        {
         "name": "Salary",
         "rawType": "int64",
         "type": "integer"
        }
       ],
       "ref": "edc1ff99-e6c6-4420-92b2-adbae06965a8",
       "rows": [
        [
         "0",
         "1",
         "Zohaib",
         "20",
         "5000000"
        ],
        [
         "1",
         "2",
         "Sara",
         "28",
         "60000"
        ],
        [
         "2",
         "3",
         "Hassan",
         "22",
         "45000"
        ],
        [
         "3",
         "4",
         "Ayesha",
         "30",
         "70000"
        ],
        [
         "4",
         "5",
         "Usman",
         "27",
         "55000"
        ],
        [
         "5",
         "6",
         "Zoya",
         "24",
         "48000"
        ],
        [
         "6",
         "7",
         "Bilal",
         "29",
         "62000"
        ],
        [
         "7",
         "8",
         "Fatima",
         "26",
         "53000"
        ],
        [
         "8",
         "9",
         "Ahmed",
         "31",
         "75000"
        ],
        [
         "9",
         "10",
         "Noor",
         "23",
         "47000"
        ],
        [
         "0",
         "1",
         "Hira",
         "26",
         "52000"
        ],
        [
         "1",
         "2",
         "Shahid",
         "32",
         "68000"
        ],
        [
         "2",
         "13",
         "Amina",
         "24",
         "47000"
        ],
        [
         "3",
         "14",
         "Omar",
         "29",
         "60000"
        ],
        [
         "4",
         "15",
         "Sana",
         "27",
         "54000"
        ],
        [
         "5",
         "16",
         "Imran",
         "31",
         "71000"
        ],
        [
         "6",
         "17",
         "Laila",
         "28",
         "59000"
        ],
        [
         "7",
         "18",
         "Faraz",
         "25",
         "48000"
        ],
        [
         "8",
         "19",
         "Maryam",
         "30",
         "67000"
        ],
        [
         "9",
         "20",
         "Raza",
         "33",
         "73000"
        ]
       ],
       "shape": {
        "columns": 4,
        "rows": 20
       }
      },
      "text/html": [
       "<div>\n",
       "<style scoped>\n",
       "    .dataframe tbody tr th:only-of-type {\n",
       "        vertical-align: middle;\n",
       "    }\n",
       "\n",
       "    .dataframe tbody tr th {\n",
       "        vertical-align: top;\n",
       "    }\n",
       "\n",
       "    .dataframe thead th {\n",
       "        text-align: right;\n",
       "    }\n",
       "</style>\n",
       "<table border=\"1\" class=\"dataframe\">\n",
       "  <thead>\n",
       "    <tr style=\"text-align: right;\">\n",
       "      <th></th>\n",
       "      <th>ID</th>\n",
       "      <th>Name</th>\n",
       "      <th>Age</th>\n",
       "      <th>Salary</th>\n",
       "    </tr>\n",
       "  </thead>\n",
       "  <tbody>\n",
       "    <tr>\n",
       "      <th>0</th>\n",
       "      <td>1</td>\n",
       "      <td>Zohaib</td>\n",
       "      <td>20</td>\n",
       "      <td>5000000</td>\n",
       "    </tr>\n",
       "    <tr>\n",
       "      <th>1</th>\n",
       "      <td>2</td>\n",
       "      <td>Sara</td>\n",
       "      <td>28</td>\n",
       "      <td>60000</td>\n",
       "    </tr>\n",
       "    <tr>\n",
       "      <th>2</th>\n",
       "      <td>3</td>\n",
       "      <td>Hassan</td>\n",
       "      <td>22</td>\n",
       "      <td>45000</td>\n",
       "    </tr>\n",
       "    <tr>\n",
       "      <th>3</th>\n",
       "      <td>4</td>\n",
       "      <td>Ayesha</td>\n",
       "      <td>30</td>\n",
       "      <td>70000</td>\n",
       "    </tr>\n",
       "    <tr>\n",
       "      <th>4</th>\n",
       "      <td>5</td>\n",
       "      <td>Usman</td>\n",
       "      <td>27</td>\n",
       "      <td>55000</td>\n",
       "    </tr>\n",
       "    <tr>\n",
       "      <th>5</th>\n",
       "      <td>6</td>\n",
       "      <td>Zoya</td>\n",
       "      <td>24</td>\n",
       "      <td>48000</td>\n",
       "    </tr>\n",
       "    <tr>\n",
       "      <th>6</th>\n",
       "      <td>7</td>\n",
       "      <td>Bilal</td>\n",
       "      <td>29</td>\n",
       "      <td>62000</td>\n",
       "    </tr>\n",
       "    <tr>\n",
       "      <th>7</th>\n",
       "      <td>8</td>\n",
       "      <td>Fatima</td>\n",
       "      <td>26</td>\n",
       "      <td>53000</td>\n",
       "    </tr>\n",
       "    <tr>\n",
       "      <th>8</th>\n",
       "      <td>9</td>\n",
       "      <td>Ahmed</td>\n",
       "      <td>31</td>\n",
       "      <td>75000</td>\n",
       "    </tr>\n",
       "    <tr>\n",
       "      <th>9</th>\n",
       "      <td>10</td>\n",
       "      <td>Noor</td>\n",
       "      <td>23</td>\n",
       "      <td>47000</td>\n",
       "    </tr>\n",
       "    <tr>\n",
       "      <th>0</th>\n",
       "      <td>1</td>\n",
       "      <td>Hira</td>\n",
       "      <td>26</td>\n",
       "      <td>52000</td>\n",
       "    </tr>\n",
       "    <tr>\n",
       "      <th>1</th>\n",
       "      <td>2</td>\n",
       "      <td>Shahid</td>\n",
       "      <td>32</td>\n",
       "      <td>68000</td>\n",
       "    </tr>\n",
       "    <tr>\n",
       "      <th>2</th>\n",
       "      <td>13</td>\n",
       "      <td>Amina</td>\n",
       "      <td>24</td>\n",
       "      <td>47000</td>\n",
       "    </tr>\n",
       "    <tr>\n",
       "      <th>3</th>\n",
       "      <td>14</td>\n",
       "      <td>Omar</td>\n",
       "      <td>29</td>\n",
       "      <td>60000</td>\n",
       "    </tr>\n",
       "    <tr>\n",
       "      <th>4</th>\n",
       "      <td>15</td>\n",
       "      <td>Sana</td>\n",
       "      <td>27</td>\n",
       "      <td>54000</td>\n",
       "    </tr>\n",
       "    <tr>\n",
       "      <th>5</th>\n",
       "      <td>16</td>\n",
       "      <td>Imran</td>\n",
       "      <td>31</td>\n",
       "      <td>71000</td>\n",
       "    </tr>\n",
       "    <tr>\n",
       "      <th>6</th>\n",
       "      <td>17</td>\n",
       "      <td>Laila</td>\n",
       "      <td>28</td>\n",
       "      <td>59000</td>\n",
       "    </tr>\n",
       "    <tr>\n",
       "      <th>7</th>\n",
       "      <td>18</td>\n",
       "      <td>Faraz</td>\n",
       "      <td>25</td>\n",
       "      <td>48000</td>\n",
       "    </tr>\n",
       "    <tr>\n",
       "      <th>8</th>\n",
       "      <td>19</td>\n",
       "      <td>Maryam</td>\n",
       "      <td>30</td>\n",
       "      <td>67000</td>\n",
       "    </tr>\n",
       "    <tr>\n",
       "      <th>9</th>\n",
       "      <td>20</td>\n",
       "      <td>Raza</td>\n",
       "      <td>33</td>\n",
       "      <td>73000</td>\n",
       "    </tr>\n",
       "  </tbody>\n",
       "</table>\n",
       "</div>"
      ],
      "text/plain": [
       "   ID    Name  Age   Salary\n",
       "0   1  Zohaib   20  5000000\n",
       "1   2    Sara   28    60000\n",
       "2   3  Hassan   22    45000\n",
       "3   4  Ayesha   30    70000\n",
       "4   5   Usman   27    55000\n",
       "5   6    Zoya   24    48000\n",
       "6   7   Bilal   29    62000\n",
       "7   8  Fatima   26    53000\n",
       "8   9   Ahmed   31    75000\n",
       "9  10    Noor   23    47000\n",
       "0   1    Hira   26    52000\n",
       "1   2  Shahid   32    68000\n",
       "2  13   Amina   24    47000\n",
       "3  14    Omar   29    60000\n",
       "4  15    Sana   27    54000\n",
       "5  16   Imran   31    71000\n",
       "6  17   Laila   28    59000\n",
       "7  18   Faraz   25    48000\n",
       "8  19  Maryam   30    67000\n",
       "9  20    Raza   33    73000"
      ]
     },
     "execution_count": 55,
     "metadata": {},
     "output_type": "execute_result"
    }
   ],
   "source": [
    "pd.concat([a, b])"
   ]
  },
  {
   "cell_type": "code",
   "execution_count": null,
   "id": "d9f4283b",
   "metadata": {},
   "outputs": [],
   "source": []
  }
 ],
 "metadata": {
  "kernelspec": {
   "display_name": "Python 3",
   "language": "python",
   "name": "python3"
  },
  "language_info": {
   "codemirror_mode": {
    "name": "ipython",
    "version": 3
   },
   "file_extension": ".py",
   "mimetype": "text/x-python",
   "name": "python",
   "nbconvert_exporter": "python",
   "pygments_lexer": "ipython3",
   "version": "3.13.5"
  }
 },
 "nbformat": 4,
 "nbformat_minor": 5
}
