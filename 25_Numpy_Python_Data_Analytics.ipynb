{
 "cells": [
  {
   "cell_type": "code",
   "execution_count": 1,
   "id": "a74a9167",
   "metadata": {},
   "outputs": [],
   "source": [
    "import numpy as np"
   ]
  },
  {
   "cell_type": "code",
   "execution_count": 7,
   "id": "c7cc0c63",
   "metadata": {},
   "outputs": [
    {
     "name": "stdout",
     "output_type": "stream",
     "text": [
      "[1 2 3 4 5]\n"
     ]
    }
   ],
   "source": [
    "# arr = np.array([[1, 2, 3, 4, 5],[11, 12, 13,14, 15],[21, 22, 23, 24, 25]])\n",
    "arr = np.array([1, 2, 3, 4, 5])\n",
    "print(arr)\n",
    "# print(type(arr))"
   ]
  },
  {
   "cell_type": "code",
   "execution_count": 12,
   "id": "34164d6b",
   "metadata": {},
   "outputs": [
    {
     "name": "stdout",
     "output_type": "stream",
     "text": [
      "[4]\n"
     ]
    }
   ],
   "source": [
    "print(arr[3:4])"
   ]
  },
  {
   "cell_type": "code",
   "execution_count": 20,
   "id": "36bfa668",
   "metadata": {},
   "outputs": [
    {
     "name": "stdout",
     "output_type": "stream",
     "text": [
      "[[ 3  4]\n",
      " [23 24]]\n"
     ]
    }
   ],
   "source": [
    "# Your original array\n",
    "arr = np.array([[1, 2, 3, 4, 5],\n",
    "                [21, 22, 23, 24, 25]])\n",
    "\n",
    "# Corrected slicing: Selects all rows (0 and 1) and columns 2 and 3\n",
    "# The slice for rows is [0:2] and for columns is [2:4]\n",
    "correct_slice = arr[0:2, 2:4]\n",
    "\n",
    "print(correct_slice)"
   ]
  },
  {
   "cell_type": "code",
   "execution_count": 23,
   "id": "d184e1b0",
   "metadata": {},
   "outputs": [
    {
     "name": "stdout",
     "output_type": "stream",
     "text": [
      "[23 24]\n"
     ]
    }
   ],
   "source": [
    "arr = np.array([[1, 2, 3, 4, 5],\n",
    "                [21, 22, 23, 24, 25]])\n",
    "\n",
    "data = arr[1, 2:4]\n",
    "print(data)"
   ]
  },
  {
   "cell_type": "code",
   "execution_count": 28,
   "id": "5ffde9e8",
   "metadata": {},
   "outputs": [
    {
     "name": "stdout",
     "output_type": "stream",
     "text": [
      "(2, 5)\n",
      "10\n",
      "2\n",
      "int64\n"
     ]
    }
   ],
   "source": [
    "print(np.shape(arr))\n",
    "print(np.size(arr))\n",
    "print(np.ndim(arr))\n",
    "print(arr.dtype)"
   ]
  }
 ],
 "metadata": {
  "kernelspec": {
   "display_name": "Python 3",
   "language": "python",
   "name": "python3"
  },
  "language_info": {
   "codemirror_mode": {
    "name": "ipython",
    "version": 3
   },
   "file_extension": ".py",
   "mimetype": "text/x-python",
   "name": "python",
   "nbconvert_exporter": "python",
   "pygments_lexer": "ipython3",
   "version": "3.13.5"
  }
 },
 "nbformat": 4,
 "nbformat_minor": 5
}
